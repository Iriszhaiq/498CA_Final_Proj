{
 "cells": [
  {
   "cell_type": "code",
   "execution_count": 4,
   "metadata": {},
   "outputs": [
    {
     "data": {
      "text/plain": [
       "(95803, 4)"
      ]
     },
     "execution_count": 4,
     "metadata": {},
     "output_type": "execute_result"
    }
   ],
   "source": [
    "from sklearn.feature_extraction.text import CountVectorizer\n",
    "import pandas as pd\n",
    "from pandas import DataFrame \n",
    "import os\n",
    "cnt = 0\n",
    "user_id,content_type,timestamp,textual=[],[],[],[]\n",
    "with open('../data/Reputation_prediction_data_train.txt') as f:    \n",
    "    for line in f:\n",
    "        data = line.strip().split()\n",
    "        user_id.append(data[-3])\n",
    "        content_type.append(data[-2])\n",
    "        timestamp.append(data[-1])\n",
    "        textual.append(data[:-3])\n",
    "df = DataFrame({'user_id': user_id})\n",
    "df['user_id']=user_id\n",
    "df['content_type'] = content_type\n",
    "df['timestamp'] = timestamp\n",
    "df['textual'] = textual\n",
    "df.shape"
   ]
  },
  {
   "cell_type": "code",
   "execution_count": 3,
   "metadata": {},
   "outputs": [
    {
     "data": {
      "text/html": [
       "<div>\n",
       "<style scoped>\n",
       "    .dataframe tbody tr th:only-of-type {\n",
       "        vertical-align: middle;\n",
       "    }\n",
       "\n",
       "    .dataframe tbody tr th {\n",
       "        vertical-align: top;\n",
       "    }\n",
       "\n",
       "    .dataframe thead th {\n",
       "        text-align: right;\n",
       "    }\n",
       "</style>\n",
       "<table border=\"1\" class=\"dataframe\">\n",
       "  <thead>\n",
       "    <tr style=\"text-align: right;\">\n",
       "      <th></th>\n",
       "      <th>user_id</th>\n",
       "      <th>textual</th>\n",
       "    </tr>\n",
       "  </thead>\n",
       "  <tbody>\n",
       "    <tr>\n",
       "      <th>0</th>\n",
       "      <td>1</td>\n",
       "      <td>[main, tenet, belief, emerg, church, emerg, wo...</td>\n",
       "    </tr>\n",
       "    <tr>\n",
       "      <th>1</th>\n",
       "      <td>1</td>\n",
       "      <td>[judaism, celebr, sabbath, saturday, christian...</td>\n",
       "    </tr>\n",
       "    <tr>\n",
       "      <th>2</th>\n",
       "      <td>1</td>\n",
       "      <td>[theolog, differ, greek, orthodox, church, cop...</td>\n",
       "    </tr>\n",
       "    <tr>\n",
       "      <th>3</th>\n",
       "      <td>1</td>\n",
       "      <td>[john, chapter, appar, contradict, author, joh...</td>\n",
       "    </tr>\n",
       "    <tr>\n",
       "      <th>4</th>\n",
       "      <td>1</td>\n",
       "      <td>[shadrach, abednego, understood, fourth, perso...</td>\n",
       "    </tr>\n",
       "    <tr>\n",
       "      <th>5</th>\n",
       "      <td>1</td>\n",
       "      <td>[differ, liber, progress, emerg, christian, ma...</td>\n",
       "    </tr>\n",
       "    <tr>\n",
       "      <th>6</th>\n",
       "      <td>1</td>\n",
       "      <td>[origin, zoe, psych, life, john, john, gospel,...</td>\n",
       "    </tr>\n",
       "    <tr>\n",
       "      <th>7</th>\n",
       "      <td>1</td>\n",
       "      <td>[believ, evolut, christian, part, book, genesi...</td>\n",
       "    </tr>\n",
       "    <tr>\n",
       "      <th>8</th>\n",
       "      <td>1</td>\n",
       "      <td>[hell, etern, escap, recent, book, love, win, ...</td>\n",
       "    </tr>\n",
       "    <tr>\n",
       "      <th>9</th>\n",
       "      <td>1</td>\n",
       "      <td>[lucif, satan, differ, heard, interview, jesui...</td>\n",
       "    </tr>\n",
       "    <tr>\n",
       "      <th>10</th>\n",
       "      <td>1</td>\n",
       "      <td>[intellig, design, creation, differ, heard, ma...</td>\n",
       "    </tr>\n",
       "    <tr>\n",
       "      <th>11</th>\n",
       "      <td>1</td>\n",
       "      <td>[atheism, default, posit, burden, proof, chris...</td>\n",
       "    </tr>\n",
       "    <tr>\n",
       "      <th>12</th>\n",
       "      <td>1</td>\n",
       "      <td>[signific, noah, flood, drunk, curs, son, nake...</td>\n",
       "    </tr>\n",
       "    <tr>\n",
       "      <th>13</th>\n",
       "      <td>1</td>\n",
       "      <td>[appar, discrep, mark, appar, discrep, mark, j...</td>\n",
       "    </tr>\n",
       "    <tr>\n",
       "      <th>14</th>\n",
       "      <td>1</td>\n",
       "      <td>[sodom, gomorrah, destroy, mani, peopl, assum,...</td>\n",
       "    </tr>\n",
       "    <tr>\n",
       "      <th>15</th>\n",
       "      <td>1</td>\n",
       "      <td>[joseph, father, testament, give, answer, matt...</td>\n",
       "    </tr>\n",
       "    <tr>\n",
       "      <th>16</th>\n",
       "      <td>1</td>\n",
       "      <td>[bought, field, blood, juda, priest, similar, ...</td>\n",
       "    </tr>\n",
       "    <tr>\n",
       "      <th>17</th>\n",
       "      <td>1</td>\n",
       "      <td>[ezekiel, god, gave, law, peopl, good, ezekiel...</td>\n",
       "    </tr>\n",
       "    <tr>\n",
       "      <th>18</th>\n",
       "      <td>1</td>\n",
       "      <td>[jesus, predict, die, kingdom, occur, matthew,...</td>\n",
       "    </tr>\n",
       "    <tr>\n",
       "      <th>19</th>\n",
       "      <td>1</td>\n",
       "      <td>[jesus, baptiz, john, account, john, kjv, thin...</td>\n",
       "    </tr>\n",
       "    <tr>\n",
       "      <th>20</th>\n",
       "      <td>1</td>\n",
       "      <td>[peopl, possess, demon, today, modern, christi...</td>\n",
       "    </tr>\n",
       "    <tr>\n",
       "      <th>21</th>\n",
       "      <td>1</td>\n",
       "      <td>[young, earth, creationist, reconcil, age, uni...</td>\n",
       "    </tr>\n",
       "    <tr>\n",
       "      <th>22</th>\n",
       "      <td>1</td>\n",
       "      <td>[sinner, prayer, import, salvat, evangel, chur...</td>\n",
       "    </tr>\n",
       "    <tr>\n",
       "      <th>23</th>\n",
       "      <td>1</td>\n",
       "      <td>[paul, advoc, kill, man, sexual, immor, corint...</td>\n",
       "    </tr>\n",
       "    <tr>\n",
       "      <th>24</th>\n",
       "      <td>1</td>\n",
       "      <td>[jesus, woman, adulteri, john, addit, invalid,...</td>\n",
       "    </tr>\n",
       "    <tr>\n",
       "      <th>25</th>\n",
       "      <td>1</td>\n",
       "      <td>[christian, support, modern, state, israel, no...</td>\n",
       "    </tr>\n",
       "    <tr>\n",
       "      <th>26</th>\n",
       "      <td>1</td>\n",
       "      <td>[god, testament, consist, moral, law, giver, i...</td>\n",
       "    </tr>\n",
       "    <tr>\n",
       "      <th>27</th>\n",
       "      <td>1</td>\n",
       "      <td>[jesus, peopl, repent, forgiven, mark, respons...</td>\n",
       "    </tr>\n",
       "    <tr>\n",
       "      <th>28</th>\n",
       "      <td>1</td>\n",
       "      <td>[joseph, reveal, brother, elabor, genesi, chap...</td>\n",
       "    </tr>\n",
       "    <tr>\n",
       "      <th>29</th>\n",
       "      <td>1</td>\n",
       "      <td>[person, triniti, peopl, testament, interact, ...</td>\n",
       "    </tr>\n",
       "    <tr>\n",
       "      <th>...</th>\n",
       "      <td>...</td>\n",
       "      <td>...</td>\n",
       "    </tr>\n",
       "    <tr>\n",
       "      <th>95773</th>\n",
       "      <td>2949</td>\n",
       "      <td>[anoth, answer, state, mani, denomin, mainstre...</td>\n",
       "    </tr>\n",
       "    <tr>\n",
       "      <th>95774</th>\n",
       "      <td>2949</td>\n",
       "      <td>[anoth, answer, state, mani, denomin, mainstre...</td>\n",
       "    </tr>\n",
       "    <tr>\n",
       "      <th>95775</th>\n",
       "      <td>2953</td>\n",
       "      <td>[work, studi, word, jesus, close, correct, sug...</td>\n",
       "    </tr>\n",
       "    <tr>\n",
       "      <th>95776</th>\n",
       "      <td>2953</td>\n",
       "      <td>[work, studi, word, jesus, close, correct, sug...</td>\n",
       "    </tr>\n",
       "    <tr>\n",
       "      <th>95777</th>\n",
       "      <td>2954</td>\n",
       "      <td>[comment, state, peter, book, peter, histor, p...</td>\n",
       "    </tr>\n",
       "    <tr>\n",
       "      <th>95778</th>\n",
       "      <td>2955</td>\n",
       "      <td>[member, order, vow, obedi, poverti, eschew, s...</td>\n",
       "    </tr>\n",
       "    <tr>\n",
       "      <th>95779</th>\n",
       "      <td>1650</td>\n",
       "      <td>[genesi, god, creat, man, imag, imag, god, cre...</td>\n",
       "    </tr>\n",
       "    <tr>\n",
       "      <th>95780</th>\n",
       "      <td>1654</td>\n",
       "      <td>[knew, church, anyth, promot, mental, ill, bro...</td>\n",
       "    </tr>\n",
       "    <tr>\n",
       "      <th>95781</th>\n",
       "      <td>1657</td>\n",
       "      <td>[ephesian, vers, read, god, reveal, previous, ...</td>\n",
       "    </tr>\n",
       "    <tr>\n",
       "      <th>95782</th>\n",
       "      <td>1659</td>\n",
       "      <td>[heard, half, protest, believ, earlier, theolo...</td>\n",
       "    </tr>\n",
       "    <tr>\n",
       "      <th>95783</th>\n",
       "      <td>1662</td>\n",
       "      <td>[love, command, john, esv, nasb, oppos, interp...</td>\n",
       "    </tr>\n",
       "    <tr>\n",
       "      <th>95784</th>\n",
       "      <td>1662</td>\n",
       "      <td>[love, command, john, esv, nasb, oppos, interp...</td>\n",
       "    </tr>\n",
       "    <tr>\n",
       "      <th>95785</th>\n",
       "      <td>1662</td>\n",
       "      <td>[sheep, goat, contradict, concept, faith, alon...</td>\n",
       "    </tr>\n",
       "    <tr>\n",
       "      <th>95786</th>\n",
       "      <td>2957</td>\n",
       "      <td>[probabl, woman, jesus, pinpoint, lack, courte...</td>\n",
       "    </tr>\n",
       "    <tr>\n",
       "      <th>95787</th>\n",
       "      <td>2958</td>\n",
       "      <td>[orthodox, pov, answer, unequivoc, orthodox, u...</td>\n",
       "    </tr>\n",
       "    <tr>\n",
       "      <th>95788</th>\n",
       "      <td>2958</td>\n",
       "      <td>[orthodox, pov, answer, unequivoc, orthodox, u...</td>\n",
       "    </tr>\n",
       "    <tr>\n",
       "      <th>95789</th>\n",
       "      <td>2958</td>\n",
       "      <td>[orthodox, pov, answer, unequivoc, orthodox, u...</td>\n",
       "    </tr>\n",
       "    <tr>\n",
       "      <th>95790</th>\n",
       "      <td>2958</td>\n",
       "      <td>[orthodox, pov, answer, unequivoc, orthodox, u...</td>\n",
       "    </tr>\n",
       "    <tr>\n",
       "      <th>95791</th>\n",
       "      <td>2958</td>\n",
       "      <td>[orthodox, pov, answer, unequivoc, orthodox, u...</td>\n",
       "    </tr>\n",
       "    <tr>\n",
       "      <th>95792</th>\n",
       "      <td>2958</td>\n",
       "      <td>[orthodox, pov, answer, unequivoc, orthodox, u...</td>\n",
       "    </tr>\n",
       "    <tr>\n",
       "      <th>95793</th>\n",
       "      <td>2958</td>\n",
       "      <td>[paul, call, faith, son, abraham, therefor, su...</td>\n",
       "    </tr>\n",
       "    <tr>\n",
       "      <th>95794</th>\n",
       "      <td>2958</td>\n",
       "      <td>[paul, call, faith, son, abraham, therefor, su...</td>\n",
       "    </tr>\n",
       "    <tr>\n",
       "      <th>95795</th>\n",
       "      <td>1665</td>\n",
       "      <td>[purpos, god, creat, capabl, sin, imperfect, a...</td>\n",
       "    </tr>\n",
       "    <tr>\n",
       "      <th>95796</th>\n",
       "      <td>1666</td>\n",
       "      <td>[question, societi, becom, monogam, wikipedia,...</td>\n",
       "    </tr>\n",
       "    <tr>\n",
       "      <th>95797</th>\n",
       "      <td>1666</td>\n",
       "      <td>[question, inde, broad, realli, tri, give, tho...</td>\n",
       "    </tr>\n",
       "    <tr>\n",
       "      <th>95798</th>\n",
       "      <td>1666</td>\n",
       "      <td>[question, inde, broad, realli, tri, give, tho...</td>\n",
       "    </tr>\n",
       "    <tr>\n",
       "      <th>95799</th>\n",
       "      <td>1666</td>\n",
       "      <td>[question, inde, broad, realli, tri, give, tho...</td>\n",
       "    </tr>\n",
       "    <tr>\n",
       "      <th>95800</th>\n",
       "      <td>1666</td>\n",
       "      <td>[question, inde, broad, realli, tri, give, tho...</td>\n",
       "    </tr>\n",
       "    <tr>\n",
       "      <th>95801</th>\n",
       "      <td>2961</td>\n",
       "      <td>[missionari, chicago, earli, companion, elder,...</td>\n",
       "    </tr>\n",
       "    <tr>\n",
       "      <th>95802</th>\n",
       "      <td>2962</td>\n",
       "      <td>[understand, posit, pleas, permiss, note, tri,...</td>\n",
       "    </tr>\n",
       "  </tbody>\n",
       "</table>\n",
       "<p>95803 rows × 2 columns</p>\n",
       "</div>"
      ],
      "text/plain": [
       "      user_id                                            textual\n",
       "0           1  [main, tenet, belief, emerg, church, emerg, wo...\n",
       "1           1  [judaism, celebr, sabbath, saturday, christian...\n",
       "2           1  [theolog, differ, greek, orthodox, church, cop...\n",
       "3           1  [john, chapter, appar, contradict, author, joh...\n",
       "4           1  [shadrach, abednego, understood, fourth, perso...\n",
       "5           1  [differ, liber, progress, emerg, christian, ma...\n",
       "6           1  [origin, zoe, psych, life, john, john, gospel,...\n",
       "7           1  [believ, evolut, christian, part, book, genesi...\n",
       "8           1  [hell, etern, escap, recent, book, love, win, ...\n",
       "9           1  [lucif, satan, differ, heard, interview, jesui...\n",
       "10          1  [intellig, design, creation, differ, heard, ma...\n",
       "11          1  [atheism, default, posit, burden, proof, chris...\n",
       "12          1  [signific, noah, flood, drunk, curs, son, nake...\n",
       "13          1  [appar, discrep, mark, appar, discrep, mark, j...\n",
       "14          1  [sodom, gomorrah, destroy, mani, peopl, assum,...\n",
       "15          1  [joseph, father, testament, give, answer, matt...\n",
       "16          1  [bought, field, blood, juda, priest, similar, ...\n",
       "17          1  [ezekiel, god, gave, law, peopl, good, ezekiel...\n",
       "18          1  [jesus, predict, die, kingdom, occur, matthew,...\n",
       "19          1  [jesus, baptiz, john, account, john, kjv, thin...\n",
       "20          1  [peopl, possess, demon, today, modern, christi...\n",
       "21          1  [young, earth, creationist, reconcil, age, uni...\n",
       "22          1  [sinner, prayer, import, salvat, evangel, chur...\n",
       "23          1  [paul, advoc, kill, man, sexual, immor, corint...\n",
       "24          1  [jesus, woman, adulteri, john, addit, invalid,...\n",
       "25          1  [christian, support, modern, state, israel, no...\n",
       "26          1  [god, testament, consist, moral, law, giver, i...\n",
       "27          1  [jesus, peopl, repent, forgiven, mark, respons...\n",
       "28          1  [joseph, reveal, brother, elabor, genesi, chap...\n",
       "29          1  [person, triniti, peopl, testament, interact, ...\n",
       "...       ...                                                ...\n",
       "95773    2949  [anoth, answer, state, mani, denomin, mainstre...\n",
       "95774    2949  [anoth, answer, state, mani, denomin, mainstre...\n",
       "95775    2953  [work, studi, word, jesus, close, correct, sug...\n",
       "95776    2953  [work, studi, word, jesus, close, correct, sug...\n",
       "95777    2954  [comment, state, peter, book, peter, histor, p...\n",
       "95778    2955  [member, order, vow, obedi, poverti, eschew, s...\n",
       "95779    1650  [genesi, god, creat, man, imag, imag, god, cre...\n",
       "95780    1654  [knew, church, anyth, promot, mental, ill, bro...\n",
       "95781    1657  [ephesian, vers, read, god, reveal, previous, ...\n",
       "95782    1659  [heard, half, protest, believ, earlier, theolo...\n",
       "95783    1662  [love, command, john, esv, nasb, oppos, interp...\n",
       "95784    1662  [love, command, john, esv, nasb, oppos, interp...\n",
       "95785    1662  [sheep, goat, contradict, concept, faith, alon...\n",
       "95786    2957  [probabl, woman, jesus, pinpoint, lack, courte...\n",
       "95787    2958  [orthodox, pov, answer, unequivoc, orthodox, u...\n",
       "95788    2958  [orthodox, pov, answer, unequivoc, orthodox, u...\n",
       "95789    2958  [orthodox, pov, answer, unequivoc, orthodox, u...\n",
       "95790    2958  [orthodox, pov, answer, unequivoc, orthodox, u...\n",
       "95791    2958  [orthodox, pov, answer, unequivoc, orthodox, u...\n",
       "95792    2958  [orthodox, pov, answer, unequivoc, orthodox, u...\n",
       "95793    2958  [paul, call, faith, son, abraham, therefor, su...\n",
       "95794    2958  [paul, call, faith, son, abraham, therefor, su...\n",
       "95795    1665  [purpos, god, creat, capabl, sin, imperfect, a...\n",
       "95796    1666  [question, societi, becom, monogam, wikipedia,...\n",
       "95797    1666  [question, inde, broad, realli, tri, give, tho...\n",
       "95798    1666  [question, inde, broad, realli, tri, give, tho...\n",
       "95799    1666  [question, inde, broad, realli, tri, give, tho...\n",
       "95800    1666  [question, inde, broad, realli, tri, give, tho...\n",
       "95801    2961  [missionari, chicago, earli, companion, elder,...\n",
       "95802    2962  [understand, posit, pleas, permiss, note, tri,...\n",
       "\n",
       "[95803 rows x 2 columns]"
      ]
     },
     "execution_count": 3,
     "metadata": {},
     "output_type": "execute_result"
    }
   ],
   "source": [
    "df"
   ]
  },
  {
   "cell_type": "code",
   "execution_count": 265,
   "metadata": {},
   "outputs": [],
   "source": [
    "df = df.groupby('user_id').agg({'textual':'sum'})\n",
    "agg_df=df['textual'].to_frame()\n",
    "agg_df.index=agg_df.index.map(int)\n",
    "agg_df.sort_index(inplace=True)"
   ]
  },
  {
   "cell_type": "code",
   "execution_count": 266,
   "metadata": {},
   "outputs": [
    {
     "data": {
      "text/plain": [
       "user_id\n",
       "1       [main, tenet, belief, emerg, church, emerg, wo...\n",
       "2       [christ, death, signific, question, titl, quit...\n",
       "3       [long, jesus, tomb, christian, common, celebr,...\n",
       "5       [pray, peopl, outsid, triniti, understand, rom...\n",
       "6       [christian, bibl, literalist, line, bibl, lite...\n",
       "7       [book, testament, chosen, interest, find, proc...\n",
       "9       [good, news, refer, good, news, differ, jesus,...\n",
       "10      [someon, heaven, faith, sin, forgiven, heaven,...\n",
       "11      [absent, apostol, success, argument, author, c...\n",
       "13      [origin, cathol, apocrypha, cathol, tradit, se...\n",
       "14      [fast, daniel, cyrus, king, persia, reveal, da...\n",
       "15      [differ, judg, god, question, god, answer, man...\n",
       "17      [bibl, stipul, prioriti, person, allegi, fair,...\n",
       "18      [origin, moral, civil, ceremoni, distinct, tes...\n",
       "19      [physic, evid, global, flood, young, earth, cr...\n",
       "21      [biblic, basi, total, deprav, calvin, point, s...\n",
       "22      [role, music, corpor, worship, mani, music, ex...\n",
       "23      [interpret, scriptur, lord, faith, baptism, ep...\n",
       "25      [order, book, protest, bibl, read, bibl, proba...\n",
       "26      [ten, command, usual, refer, exodus, ten, comm...\n",
       "27      [christian, baptis, jesus, make, discipl, nati...\n",
       "29      [symbol, horn, prove, difficult, find, answer,...\n",
       "30      [biblic, literalist, interpret, tale, david, g...\n",
       "31      [biblic, basi, doctrin, triniti, word, term, t...\n",
       "33      [bibl, stand, vegetarian, subject, vegetarian,...\n",
       "34      [signific, jesus, baptism, theolog, baptism, t...\n",
       "35      [martin, luther, main, disagr, cathol, church,...\n",
       "37      [cain, abel, offer, sacrific, law, mose, genes...\n",
       "38      [good, start, point, studi, earli, church, int...\n",
       "39      [origin, christma, tree, accept, christian, tr...\n",
       "                              ...                        \n",
       "3294    [amish, believ, wrong, util, technolog, advanc...\n",
       "3295    [word, term, triniti, bibl, howev, christian, ...\n",
       "3297    [doctrin, individu, guilti, sin, spiritu, fail...\n",
       "3298    [john, remark, stori, jesus, rais, lazarus, de...\n",
       "3299    [short, section, enoch, quot, testament, lette...\n",
       "3301    [chronolog, concept, hell, mention, bibl, ment...\n",
       "3302    [passag, gospel, luke, curious, begin, hear, e...\n",
       "3303    [juda, iscariot, commit, suicid, realiz, evil,...\n",
       "3305    [follow, definit, humanist, andrew, humanist, ...\n",
       "3306    [differ, herod, bibl, herod, great, rule, jesu...\n",
       "3307    [anoth, question, signific, number, answer, re...\n",
       "3309    [bonhoeff, lutheran, pastor, howev, book, cost...\n",
       "3310    [person, told, sinc, discipl, call, jesus, rab...\n",
       "3311    [main, doctrin, disagr, luther, calvin, anybod...\n",
       "3313    [commonplac, christian, today, close, prayer, ...\n",
       "3314    [malachi, send, prophet, elijah, day, lord, ar...\n",
       "3315    [commune, group, jws, brought, app, compar, nw...\n",
       "3317    [heard, mormon, god, actual, fit, descript, su...\n",
       "3318    [respons, question, bibl, explain, exist, foss...\n",
       "3319    [apocalyps, revel, john, book, bibl, difficult...\n",
       "3321    [stack, exchang, believ, core, moder, communit...\n",
       "3322    [theoret, question, interest, system, belief, ...\n",
       "3323    [compet, theori, jesus, hell, damn, jesus, par...\n",
       "3325    [explain, question, jew, consid, mose, abraham...\n",
       "3326    [jesus, brought, everlast, life, abraham, die,...\n",
       "3327    [recent, invit, colleg, student, call, questio...\n",
       "3329    [somewher, travel, read, jesus, consid, adam, ...\n",
       "3330    [triniti, dogma, cathol, church, henc, dogma, ...\n",
       "3331    [naturalist, hypothesi, empti, tomb, resurrect...\n",
       "3333    [peopl, march, feast, patrick, japan, faith, c...\n",
       "Name: textual, Length: 2500, dtype: object"
      ]
     },
     "execution_count": 266,
     "metadata": {},
     "output_type": "execute_result"
    }
   ],
   "source": [
    "agg_df.textual"
   ]
  },
  {
   "cell_type": "code",
   "execution_count": 267,
   "metadata": {},
   "outputs": [
    {
     "data": {
      "text/html": [
       "<div>\n",
       "<style scoped>\n",
       "    .dataframe tbody tr th:only-of-type {\n",
       "        vertical-align: middle;\n",
       "    }\n",
       "\n",
       "    .dataframe tbody tr th {\n",
       "        vertical-align: top;\n",
       "    }\n",
       "\n",
       "    .dataframe thead th {\n",
       "        text-align: right;\n",
       "    }\n",
       "</style>\n",
       "<table border=\"1\" class=\"dataframe\">\n",
       "  <thead>\n",
       "    <tr style=\"text-align: right;\">\n",
       "      <th></th>\n",
       "      <th>label</th>\n",
       "    </tr>\n",
       "  </thead>\n",
       "  <tbody>\n",
       "    <tr>\n",
       "      <th>1</th>\n",
       "      <td>1</td>\n",
       "    </tr>\n",
       "    <tr>\n",
       "      <th>2</th>\n",
       "      <td>1</td>\n",
       "    </tr>\n",
       "    <tr>\n",
       "      <th>3</th>\n",
       "      <td>1</td>\n",
       "    </tr>\n",
       "    <tr>\n",
       "      <th>5</th>\n",
       "      <td>1</td>\n",
       "    </tr>\n",
       "    <tr>\n",
       "      <th>6</th>\n",
       "      <td>1</td>\n",
       "    </tr>\n",
       "  </tbody>\n",
       "</table>\n",
       "</div>"
      ],
      "text/plain": [
       "  label\n",
       "1     1\n",
       "2     1\n",
       "3     1\n",
       "5     1\n",
       "6     1"
      ]
     },
     "execution_count": 267,
     "metadata": {},
     "output_type": "execute_result"
    }
   ],
   "source": [
    "user_id, label = [],[]\n",
    "with open('./data/Reputation_prediction_labels_train.txt') as f:    \n",
    "    for line in f:\n",
    "        data = line.strip().split()\n",
    "        user_id.append(data[0])\n",
    "        label.append(data[1])\n",
    "df_test = DataFrame(index=user_id)\n",
    "df_test['label']=label\n",
    "df_test.head()\n"
   ]
  },
  {
   "cell_type": "code",
   "execution_count": 268,
   "metadata": {},
   "outputs": [],
   "source": [
    "agg_df['label']= df_test['label'].tolist()\n",
    "agg_df['textual']=[' '.join(i) for i in agg_df.textual]"
   ]
  },
  {
   "cell_type": "code",
   "execution_count": 263,
   "metadata": {},
   "outputs": [],
   "source": [
    "# import numpy as np\n",
    "# from sklearn.cross_validation import train_test_split\n",
    "# a_train, a_test, b_train, b_test = train_test_split(agg_df.textual,agg_df.label , test_size=0.2)\n",
    "# vectorizer = CountVectorizer()\n",
    "# X = vectorizer.fit_transform(a_train)\n",
    "# from sklearn.naive_bayes import MultinomialNB\n",
    "# clf = MultinomialNB().fit(X, b_train)\n",
    "\n",
    "# Y = vectorizer.transform(a_test)\n",
    "\n",
    "# predicted = clf.predict(Y)\n",
    "# np.mean(predicted == b_test)  "
   ]
  },
  {
   "cell_type": "code",
   "execution_count": 269,
   "metadata": {},
   "outputs": [],
   "source": [
    "vectorizer = CountVectorizer()\n",
    "X = vectorizer.fit_transform(agg_df.textual)\n",
    "# X.toarray()"
   ]
  },
  {
   "cell_type": "code",
   "execution_count": 211,
   "metadata": {},
   "outputs": [],
   "source": [
    "# from sklearn.feature_extraction.text import TfidfTransformer\n",
    "# tf_transformer = TfidfTransformer(use_idf=False).fit(X)\n",
    "# X_train_tf = tf_transformer.transform(X)\n",
    "# X_train_tf"
   ]
  },
  {
   "cell_type": "code",
   "execution_count": 270,
   "metadata": {},
   "outputs": [],
   "source": [
    "import numpy as np\n",
    "from sklearn.cross_validation import train_test_split\n",
    "a_train, a_test, b_train, b_test = train_test_split(X,agg_df.label , test_size=0.1)\n",
    "# train_data,test_data,train_label,test_label\n",
    "# 0.1，6"
   ]
  },
  {
   "cell_type": "code",
   "execution_count": 258,
   "metadata": {},
   "outputs": [
    {
     "data": {
      "text/plain": [
       "0.38400000000000001"
      ]
     },
     "execution_count": 258,
     "metadata": {},
     "output_type": "execute_result"
    }
   ],
   "source": [
    "from sklearn.naive_bayes import MultinomialNB\n",
    "clf = MultinomialNB().fit(a_train, b_train)\n",
    "predicted = clf.predict(a_test)\n",
    "np.mean(predicted == b_test)   "
   ]
  },
  {
   "cell_type": "code",
   "execution_count": 29,
   "metadata": {},
   "outputs": [],
   "source": [
    "# docs_new = ['westminst welfar week', 'worthless']\n",
    "# X_new_counts = vectorizer.transform(docs_new)\n",
    "# X_new_tfidf = tf_transformer.transform(X_new_counts)\n",
    "\n",
    "# predicted = clf.predict(X_new_tfidf)\n",
    "\n",
    "# for doc, category in zip(docs_new, predicted):\n",
    "#      print('%r => %s' % (doc, category))"
   ]
  },
  {
   "cell_type": "code",
   "execution_count": 271,
   "metadata": {},
   "outputs": [],
   "source": [
    "from sklearn.pipeline import Pipeline\n",
    "text_clf = Pipeline([('vect', CountVectorizer()),\n",
    "                     ('tfidf', TfidfTransformer()),\n",
    "                     ('clf', MultinomialNB()),])"
   ]
  },
  {
   "cell_type": "code",
   "execution_count": 277,
   "metadata": {
    "scrolled": true
   },
   "outputs": [
    {
     "data": {
      "text/plain": [
       "Pipeline(memory=None,\n",
       "     steps=[('vect', CountVectorizer(analyzer='word', binary=False, decode_error='strict',\n",
       "        dtype=<class 'numpy.int64'>, encoding='utf-8', input='content',\n",
       "        lowercase=True, max_df=1.0, max_features=None, min_df=1,\n",
       "        ngram_range=(1, 1), preprocessor=None, stop_words=None,\n",
       "        strip...inear_tf=False, use_idf=True)), ('clf', MultinomialNB(alpha=1.0, class_prior=None, fit_prior=True))])"
      ]
     },
     "execution_count": 277,
     "metadata": {},
     "output_type": "execute_result"
    }
   ],
   "source": [
    "import numpy as np\n",
    "from sklearn.cross_validation import train_test_split\n",
    "a_train, a_test, b_train, b_test = train_test_split(agg_df.textual,agg_df.label, test_size=0.1,random_state=10)\n",
    "text_clf.fit(a_train, b_train)  "
   ]
  },
  {
   "cell_type": "code",
   "execution_count": 282,
   "metadata": {},
   "outputs": [
    {
     "data": {
      "text/plain": [
       "0.30399999999999999"
      ]
     },
     "execution_count": 282,
     "metadata": {},
     "output_type": "execute_result"
    }
   ],
   "source": [
    "import numpy as np\n",
    "predicted = text_clf.predict(a_test)\n",
    "np.mean(predicted == b_test)   "
   ]
  },
  {
   "cell_type": "code",
   "execution_count": 316,
   "metadata": {},
   "outputs": [
    {
     "data": {
      "text/plain": [
       "0.52400000000000002"
      ]
     },
     "execution_count": 316,
     "metadata": {},
     "output_type": "execute_result"
    }
   ],
   "source": [
    "from sklearn.linear_model import SGDClassifier\n",
    "from sklearn import svm\n",
    "text_clf = Pipeline([('vect', CountVectorizer()),\n",
    "                     ('tfidf', TfidfTransformer()),\n",
    "#                      ('svm', svm.SVC())\n",
    "                     ('clf', SGDClassifier(loss='hinge', penalty='l2',\n",
    "                                           alpha=1e-3, random_state=17,\n",
    "                                           max_iter=5, tol=None)),\n",
    "])\n",
    "text_clf.fit(a_train, b_train)  \n",
    "\n",
    "predicted = text_clf.predict(a_test)\n",
    "np.mean(predicted == b_test)"
   ]
  },
  {
   "cell_type": "code",
   "execution_count": 288,
   "metadata": {},
   "outputs": [
    {
     "name": "stderr",
     "output_type": "stream",
     "text": [
      "/Users/hh/anaconda/envs/py3/lib/python3.6/site-packages/sklearn/metrics/classification.py:1135: UndefinedMetricWarning: Precision and F-score are ill-defined and being set to 0.0 in labels with no predicted samples.\n",
      "  'precision', 'predicted', average, warn_for)\n",
      "/Users/hh/anaconda/envs/py3/lib/python3.6/site-packages/sklearn/metrics/classification.py:1137: UndefinedMetricWarning: Recall and F-score are ill-defined and being set to 0.0 in labels with no true samples.\n",
      "  'recall', 'true', average, warn_for)\n",
      "IOPub data rate exceeded.\n",
      "The notebook server will temporarily stop sending output\n",
      "to the client in order to avoid crashing it.\n",
      "To change this limit, set the config variable\n",
      "`--NotebookApp.iopub_data_rate_limit`.\n",
      "\n",
      "Current values:\n",
      "NotebookApp.iopub_data_rate_limit=1000000.0 (bytes/sec)\n",
      "NotebookApp.rate_limit_window=3.0 (secs)\n",
      "\n"
     ]
    }
   ],
   "source": [
    "from sklearn import metrics\n",
    "print(metrics.classification_report(a_test, predicted,\n",
    "    ))"
   ]
  },
  {
   "cell_type": "code",
   "execution_count": 317,
   "metadata": {},
   "outputs": [],
   "source": [
    "from sklearn.model_selection import GridSearchCV\n",
    "parameters = {'vect__ngram_range': [(1, 1), (1, 2)],\n",
    "              'tfidf__use_idf': (True, False),\n",
    "              'clf__alpha': (1e-2, 1e-3),\n",
    "}"
   ]
  },
  {
   "cell_type": "code",
   "execution_count": 318,
   "metadata": {},
   "outputs": [],
   "source": [
    "gs_clf = GridSearchCV(text_clf, parameters, cv=5, iid=False, n_jobs=-1)"
   ]
  },
  {
   "cell_type": "code",
   "execution_count": 319,
   "metadata": {},
   "outputs": [],
   "source": [
    "gs_clf = gs_clf.fit(a_train, b_train)"
   ]
  },
  {
   "cell_type": "code",
   "execution_count": 320,
   "metadata": {},
   "outputs": [
    {
     "name": "stdout",
     "output_type": "stream",
     "text": [
      "clf__alpha: 0.001\n",
      "tfidf__use_idf: True\n",
      "vect__ngram_range: (1, 1)\n"
     ]
    }
   ],
   "source": [
    "# gs_clf.predict(['God is love'])[0]\n",
    "gs_clf.best_score_                                  \n",
    "for param_name in sorted(parameters.keys()):\n",
    "    print(\"%s: %r\" % (param_name, gs_clf.best_params_[param_name]))"
   ]
  },
  {
   "cell_type": "code",
   "execution_count": 321,
   "metadata": {},
   "outputs": [
    {
     "data": {
      "text/plain": [
       "0.56535319845200882"
      ]
     },
     "execution_count": 321,
     "metadata": {},
     "output_type": "execute_result"
    }
   ],
   "source": [
    "gs_clf.best_score_    "
   ]
  },
  {
   "cell_type": "code",
   "execution_count": null,
   "metadata": {},
   "outputs": [],
   "source": []
  }
 ],
 "metadata": {
  "kernelspec": {
   "display_name": "Python 3",
   "language": "python",
   "name": "python3"
  },
  "language_info": {
   "codemirror_mode": {
    "name": "ipython",
    "version": 3
   },
   "file_extension": ".py",
   "mimetype": "text/x-python",
   "name": "python",
   "nbconvert_exporter": "python",
   "pygments_lexer": "ipython3",
   "version": "3.6.4"
  }
 },
 "nbformat": 4,
 "nbformat_minor": 2
}
