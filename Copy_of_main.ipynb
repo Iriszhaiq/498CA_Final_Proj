{
  "nbformat": 4,
  "nbformat_minor": 0,
  "metadata": {
    "colab": {
      "name": "Copy of main.ipynb",
      "version": "0.3.2",
      "provenance": [],
      "include_colab_link": true
    },
    "kernelspec": {
      "name": "python3",
      "display_name": "Python 3"
    },
    "accelerator": "GPU"
  },
  "cells": [
    {
      "cell_type": "markdown",
      "metadata": {
        "id": "view-in-github",
        "colab_type": "text"
      },
      "source": [
        "<a href=\"https://colab.research.google.com/github/Iriszhaiq/498CA_Final_Proj/blob/master/Copy_of_main.ipynb\" target=\"_parent\"><img src=\"https://colab.research.google.com/assets/colab-badge.svg\" alt=\"Open In Colab\"/></a>"
      ]
    },
    {
      "cell_type": "code",
      "metadata": {
        "id": "h8OkK7U1ehax",
        "colab_type": "code",
        "colab": {}
      },
      "source": [
        "!pip install -U -q PyDrive"
      ],
      "execution_count": 0,
      "outputs": []
    },
    {
      "cell_type": "code",
      "metadata": {
        "id": "uCYtu2lFeq2f",
        "colab_type": "code",
        "colab": {}
      },
      "source": [
        "from pydrive.auth import GoogleAuth\n",
        "from pydrive.drive import GoogleDrive\n",
        "from google.colab import auth\n",
        "from oauth2client.client import GoogleCredentials"
      ],
      "execution_count": 0,
      "outputs": []
    },
    {
      "cell_type": "code",
      "metadata": {
        "id": "P9FxZE8uepiE",
        "colab_type": "code",
        "colab": {}
      },
      "source": [
        "# 1. Authenticate and create the PyDrive client.\n",
        "auth.authenticate_user()\n",
        "gauth = GoogleAuth()\n",
        "gauth.credentials = GoogleCredentials.get_application_default()\n",
        "drive = GoogleDrive(gauth)\n"
      ],
      "execution_count": 0,
      "outputs": []
    },
    {
      "cell_type": "code",
      "metadata": {
        "id": "UsI7h8BGh_iH",
        "colab_type": "code",
        "colab": {}
      },
      "source": [
        "\n",
        "downloaded = drive.CreateFile({'id':'1Db4GUynKccPaL0cPEdMil0ff8sM7HplZ'}) # replace fileid with Id of file you want to access\n",
        "downloaded.GetContentFile('Reputation_prediction_data_train.txt') # now you can use txt file\n",
        "\n",
        "downloaded2 = drive.CreateFile({'id':'1wAymDbcre5f2ySAXas-f-wsc47F0ELXK'}) # replace fileid with Id of file you want to access\n",
        "downloaded2.GetContentFile('Reputation_prediction_labels_train.txt') # now you can use txt file"
      ],
      "execution_count": 0,
      "outputs": []
    },
    {
      "cell_type": "code",
      "metadata": {
        "id": "vlvE65j_eVJg",
        "colab_type": "code",
        "outputId": "a7cbe4fe-d565-4919-9fef-05484a5e12f6",
        "colab": {
          "base_uri": "https://localhost:8080/",
          "height": 71
        }
      },
      "source": [
        "from sklearn.feature_extraction.text import CountVectorizer\n",
        "from sklearn.feature_extraction.text import TfidfTransformer\n",
        "from sklearn.cross_validation import train_test_split\n",
        "from sklearn.linear_model import SGDClassifier\n",
        "from sklearn.naive_bayes import MultinomialNB\n",
        "from sklearn.model_selection import GridSearchCV\n",
        "from sklearn.pipeline import Pipeline\n",
        "from sklearn import svm\n",
        "from sklearn import metrics\n",
        "import pandas as pd\n",
        "import numpy as np\n",
        "from pandas import DataFrame \n",
        "import os"
      ],
      "execution_count": 0,
      "outputs": [
        {
          "output_type": "stream",
          "text": [
            "/usr/local/lib/python3.6/dist-packages/sklearn/cross_validation.py:41: DeprecationWarning: This module was deprecated in version 0.18 in favor of the model_selection module into which all the refactored classes and functions are moved. Also note that the interface of the new CV iterators are different from that of this module. This module will be removed in 0.20.\n",
            "  \"This module will be removed in 0.20.\", DeprecationWarning)\n"
          ],
          "name": "stderr"
        }
      ]
    },
    {
      "cell_type": "code",
      "metadata": {
        "id": "Q67RhfFteVJl",
        "colab_type": "code",
        "outputId": "c79a6212-8204-4a9d-f32b-8d5834afbdb5",
        "colab": {
          "base_uri": "https://localhost:8080/",
          "height": 34
        }
      },
      "source": [
        "#===================================== read datas =====================================\n",
        "user_id,content_type,timestamp,textual=[],[],[],[]\n",
        "with open('Reputation_prediction_data_train.txt') as f:    \n",
        "    for line in f:\n",
        "        data = line.strip().split()\n",
        "        user_id.append(data[-3])\n",
        "        content_type.append(data[-2])\n",
        "        timestamp.append(data[-1])\n",
        "        textual.append(data[:-3])\n",
        "df_data = DataFrame({'user_id': user_id})\n",
        "df_data['user_id']=user_id\n",
        "df_data['content_type'] = content_type\n",
        "df_data['textual'] = textual\n",
        "#===================================== read labels =====================================\n",
        "user_id, label = [],[]\n",
        "with open('Reputation_prediction_labels_train.txt') as f:    \n",
        "    for line in f:\n",
        "        data = line.strip().split()\n",
        "        user_id.append(data[0])\n",
        "        label.append(data[1])\n",
        "df_test = DataFrame()\n",
        "df_test['label']=label\n",
        "df_test['user_id'] = user_id\n",
        "#===================================== merge 2 dataframe =====================================\n",
        "df = pd.merge(df_data, df_test, on='user_id',how='left')\n",
        "#===================================== group data =====================================\n",
        "df_group = df.groupby(['user_id','content_type','label']).agg({'textual':'sum'}).add_suffix('_comb').reset_index()\n",
        "df_group['textual_comb']=[' '.join(i) for i in df_group.textual_comb]\n",
        "df_group.shape  #(6535, 4)"
      ],
      "execution_count": 0,
      "outputs": [
        {
          "output_type": "execute_result",
          "data": {
            "text/plain": [
              "(6535, 4)"
            ]
          },
          "metadata": {
            "tags": []
          },
          "execution_count": 6
        }
      ]
    },
    {
      "cell_type": "code",
      "metadata": {
        "id": "DiyRHeZSeVJr",
        "colab_type": "code",
        "outputId": "12869927-198e-4ef7-b672-93871175e1a0",
        "colab": {
          "base_uri": "https://localhost:8080/",
          "height": 359
        }
      },
      "source": [
        "df[190:200]"
      ],
      "execution_count": 0,
      "outputs": [
        {
          "output_type": "execute_result",
          "data": {
            "text/html": [
              "<div>\n",
              "<style scoped>\n",
              "    .dataframe tbody tr th:only-of-type {\n",
              "        vertical-align: middle;\n",
              "    }\n",
              "\n",
              "    .dataframe tbody tr th {\n",
              "        vertical-align: top;\n",
              "    }\n",
              "\n",
              "    .dataframe thead th {\n",
              "        text-align: right;\n",
              "    }\n",
              "</style>\n",
              "<table border=\"1\" class=\"dataframe\">\n",
              "  <thead>\n",
              "    <tr style=\"text-align: right;\">\n",
              "      <th></th>\n",
              "      <th>user_id</th>\n",
              "      <th>content_type</th>\n",
              "      <th>textual</th>\n",
              "      <th>label</th>\n",
              "    </tr>\n",
              "  </thead>\n",
              "  <tbody>\n",
              "    <tr>\n",
              "      <th>190</th>\n",
              "      <td>13</td>\n",
              "      <td>Q</td>\n",
              "      <td>[basic, premis, restorationist, movement, ear,...</td>\n",
              "      <td>1</td>\n",
              "    </tr>\n",
              "    <tr>\n",
              "      <th>191</th>\n",
              "      <td>13</td>\n",
              "      <td>Q</td>\n",
              "      <td>[distinct, ordin, type, lds, church, recent, l...</td>\n",
              "      <td>1</td>\n",
              "    </tr>\n",
              "    <tr>\n",
              "      <th>192</th>\n",
              "      <td>13</td>\n",
              "      <td>Q</td>\n",
              "      <td>[origin, bridal, veil, christian, wed, practic...</td>\n",
              "      <td>1</td>\n",
              "    </tr>\n",
              "    <tr>\n",
              "      <th>193</th>\n",
              "      <td>13</td>\n",
              "      <td>Q</td>\n",
              "      <td>[accord, kingdom, theolog, man, hold, secular,...</td>\n",
              "      <td>1</td>\n",
              "    </tr>\n",
              "    <tr>\n",
              "      <th>194</th>\n",
              "      <td>13</td>\n",
              "      <td>Q</td>\n",
              "      <td>[differ, elder, led, elder, rule, church, gove...</td>\n",
              "      <td>1</td>\n",
              "    </tr>\n",
              "    <tr>\n",
              "      <th>195</th>\n",
              "      <td>13</td>\n",
              "      <td>Q</td>\n",
              "      <td>[distinct, exhibit, true, furqan, book, true, ...</td>\n",
              "      <td>1</td>\n",
              "    </tr>\n",
              "    <tr>\n",
              "      <th>196</th>\n",
              "      <td>13</td>\n",
              "      <td>Q</td>\n",
              "      <td>[matthew, mark, luke, call, synopt, gospel, go...</td>\n",
              "      <td>1</td>\n",
              "    </tr>\n",
              "    <tr>\n",
              "      <th>197</th>\n",
              "      <td>14</td>\n",
              "      <td>Q</td>\n",
              "      <td>[fast, daniel, cyrus, king, persia, reveal, da...</td>\n",
              "      <td>3</td>\n",
              "    </tr>\n",
              "    <tr>\n",
              "      <th>198</th>\n",
              "      <td>14</td>\n",
              "      <td>Q</td>\n",
              "      <td>[pray, bold, pray, person, achiev, pray, selfl...</td>\n",
              "      <td>3</td>\n",
              "    </tr>\n",
              "    <tr>\n",
              "      <th>199</th>\n",
              "      <td>15</td>\n",
              "      <td>Q</td>\n",
              "      <td>[differ, judg, god, question, god, answer, man...</td>\n",
              "      <td>1</td>\n",
              "    </tr>\n",
              "  </tbody>\n",
              "</table>\n",
              "</div>"
            ],
            "text/plain": [
              "    user_id content_type                                            textual  \\\n",
              "190      13            Q  [basic, premis, restorationist, movement, ear,...   \n",
              "191      13            Q  [distinct, ordin, type, lds, church, recent, l...   \n",
              "192      13            Q  [origin, bridal, veil, christian, wed, practic...   \n",
              "193      13            Q  [accord, kingdom, theolog, man, hold, secular,...   \n",
              "194      13            Q  [differ, elder, led, elder, rule, church, gove...   \n",
              "195      13            Q  [distinct, exhibit, true, furqan, book, true, ...   \n",
              "196      13            Q  [matthew, mark, luke, call, synopt, gospel, go...   \n",
              "197      14            Q  [fast, daniel, cyrus, king, persia, reveal, da...   \n",
              "198      14            Q  [pray, bold, pray, person, achiev, pray, selfl...   \n",
              "199      15            Q  [differ, judg, god, question, god, answer, man...   \n",
              "\n",
              "    label  \n",
              "190     1  \n",
              "191     1  \n",
              "192     1  \n",
              "193     1  \n",
              "194     1  \n",
              "195     1  \n",
              "196     1  \n",
              "197     3  \n",
              "198     3  \n",
              "199     1  "
            ]
          },
          "metadata": {
            "tags": []
          },
          "execution_count": 7
        }
      ]
    },
    {
      "cell_type": "code",
      "metadata": {
        "id": "tuKC0A7BeVJw",
        "colab_type": "code",
        "outputId": "eb72363e-95d4-4594-de02-5ad052cae99a",
        "colab": {
          "base_uri": "https://localhost:8080/",
          "height": 34
        }
      },
      "source": [
        "x_train, x_test, y_train, y_test = train_test_split(df_group.textual_comb,df_group.label, test_size=0.2,random_state=6)\n",
        "train, test = train_test_split(df_group, test_size=0.2，random_state=6)\n",
        "text_clf = Pipeline([('vect', CountVectorizer(ngram_range=(1,3))),\n",
        "                     ('clf', MultinomialNB(alpha = 0.001))])\n",
        "text_clf.fit(train.textual_comb, train.label)  \n",
        "label = text_clf.predict(test.textual_comb)\n",
        "np.mean(label == test.label)  #0.6174445294567712，0.612088752869166"
      ],
      "execution_count": 0,
      "outputs": [
        {
          "output_type": "execute_result",
          "data": {
            "text/plain": [
              "0.6013771996939556"
            ]
          },
          "metadata": {
            "tags": []
          },
          "execution_count": 33
        }
      ]
    },
    {
      "cell_type": "code",
      "metadata": {
        "id": "C9aSo_oCUlsE",
        "colab_type": "code",
        "outputId": "b9653876-f907-4d67-f8cf-8d998395479c",
        "colab": {
          "base_uri": "https://localhost:8080/",
          "height": 1269
        }
      },
      "source": [
        "from sklearn.preprocessing import OneHotEncoder\n",
        "test['test']=label\n",
        "one_hot = pd.get_dummies(test['content_type'])\n",
        "one_hot2 = pd.get_dummies(test['test'])\n",
        "\n",
        "test = test.drop('content_type',axis = 1)\n",
        "test = test.drop('textual_comb',axis = 1)\n",
        "test = test.drop('test',axis = 1)\n",
        "\n",
        "test = test.join(one_hot)\n",
        "test = test.join(one_hot2)\n",
        "\n",
        "X=test.iloc[:,2:]\n",
        "y=test.iloc[:,1]\n",
        "test.head()\n",
        "\n"
      ],
      "execution_count": 0,
      "outputs": [
        {
          "output_type": "error",
          "ename": "KeyError",
          "evalue": "ignored",
          "traceback": [
            "\u001b[0;31m---------------------------------------------------------------------------\u001b[0m",
            "\u001b[0;31mKeyError\u001b[0m                                  Traceback (most recent call last)",
            "\u001b[0;32m/usr/local/lib/python3.6/dist-packages/pandas/core/indexes/base.py\u001b[0m in \u001b[0;36mget_loc\u001b[0;34m(self, key, method, tolerance)\u001b[0m\n\u001b[1;32m   2524\u001b[0m             \u001b[0;32mtry\u001b[0m\u001b[0;34m:\u001b[0m\u001b[0;34m\u001b[0m\u001b[0;34m\u001b[0m\u001b[0m\n\u001b[0;32m-> 2525\u001b[0;31m                 \u001b[0;32mreturn\u001b[0m \u001b[0mself\u001b[0m\u001b[0;34m.\u001b[0m\u001b[0m_engine\u001b[0m\u001b[0;34m.\u001b[0m\u001b[0mget_loc\u001b[0m\u001b[0;34m(\u001b[0m\u001b[0mkey\u001b[0m\u001b[0;34m)\u001b[0m\u001b[0;34m\u001b[0m\u001b[0;34m\u001b[0m\u001b[0m\n\u001b[0m\u001b[1;32m   2526\u001b[0m             \u001b[0;32mexcept\u001b[0m \u001b[0mKeyError\u001b[0m\u001b[0;34m:\u001b[0m\u001b[0;34m\u001b[0m\u001b[0;34m\u001b[0m\u001b[0m\n",
            "\u001b[0;32mpandas/_libs/index.pyx\u001b[0m in \u001b[0;36mpandas._libs.index.IndexEngine.get_loc\u001b[0;34m()\u001b[0m\n",
            "\u001b[0;32mpandas/_libs/index.pyx\u001b[0m in \u001b[0;36mpandas._libs.index.IndexEngine.get_loc\u001b[0;34m()\u001b[0m\n",
            "\u001b[0;32mpandas/_libs/hashtable_class_helper.pxi\u001b[0m in \u001b[0;36mpandas._libs.hashtable.PyObjectHashTable.get_item\u001b[0;34m()\u001b[0m\n",
            "\u001b[0;32mpandas/_libs/hashtable_class_helper.pxi\u001b[0m in \u001b[0;36mpandas._libs.hashtable.PyObjectHashTable.get_item\u001b[0;34m()\u001b[0m\n",
            "\u001b[0;31mKeyError\u001b[0m: 'content_type'",
            "\nDuring handling of the above exception, another exception occurred:\n",
            "\u001b[0;31mKeyError\u001b[0m                                  Traceback (most recent call last)",
            "\u001b[0;32m<ipython-input-38-ded6f5c0f9af>\u001b[0m in \u001b[0;36m<module>\u001b[0;34m()\u001b[0m\n\u001b[1;32m      1\u001b[0m \u001b[0;32mfrom\u001b[0m \u001b[0msklearn\u001b[0m\u001b[0;34m.\u001b[0m\u001b[0mpreprocessing\u001b[0m \u001b[0;32mimport\u001b[0m \u001b[0mOneHotEncoder\u001b[0m\u001b[0;34m\u001b[0m\u001b[0;34m\u001b[0m\u001b[0m\n\u001b[1;32m      2\u001b[0m \u001b[0mtest\u001b[0m\u001b[0;34m[\u001b[0m\u001b[0;34m'test'\u001b[0m\u001b[0;34m]\u001b[0m\u001b[0;34m=\u001b[0m\u001b[0mlabel\u001b[0m\u001b[0;34m\u001b[0m\u001b[0;34m\u001b[0m\u001b[0m\n\u001b[0;32m----> 3\u001b[0;31m \u001b[0mone_hot\u001b[0m \u001b[0;34m=\u001b[0m \u001b[0mpd\u001b[0m\u001b[0;34m.\u001b[0m\u001b[0mget_dummies\u001b[0m\u001b[0;34m(\u001b[0m\u001b[0mtest\u001b[0m\u001b[0;34m[\u001b[0m\u001b[0;34m'content_type'\u001b[0m\u001b[0;34m]\u001b[0m\u001b[0;34m)\u001b[0m\u001b[0;34m\u001b[0m\u001b[0;34m\u001b[0m\u001b[0m\n\u001b[0m\u001b[1;32m      4\u001b[0m \u001b[0mone_hot2\u001b[0m \u001b[0;34m=\u001b[0m \u001b[0mpd\u001b[0m\u001b[0;34m.\u001b[0m\u001b[0mget_dummies\u001b[0m\u001b[0;34m(\u001b[0m\u001b[0mtest\u001b[0m\u001b[0;34m[\u001b[0m\u001b[0;34m'test'\u001b[0m\u001b[0;34m]\u001b[0m\u001b[0;34m)\u001b[0m\u001b[0;34m\u001b[0m\u001b[0;34m\u001b[0m\u001b[0m\n\u001b[1;32m      5\u001b[0m \u001b[0;34m\u001b[0m\u001b[0m\n",
            "\u001b[0;32m/usr/local/lib/python3.6/dist-packages/pandas/core/frame.py\u001b[0m in \u001b[0;36m__getitem__\u001b[0;34m(self, key)\u001b[0m\n\u001b[1;32m   2137\u001b[0m             \u001b[0;32mreturn\u001b[0m \u001b[0mself\u001b[0m\u001b[0;34m.\u001b[0m\u001b[0m_getitem_multilevel\u001b[0m\u001b[0;34m(\u001b[0m\u001b[0mkey\u001b[0m\u001b[0;34m)\u001b[0m\u001b[0;34m\u001b[0m\u001b[0;34m\u001b[0m\u001b[0m\n\u001b[1;32m   2138\u001b[0m         \u001b[0;32melse\u001b[0m\u001b[0;34m:\u001b[0m\u001b[0;34m\u001b[0m\u001b[0;34m\u001b[0m\u001b[0m\n\u001b[0;32m-> 2139\u001b[0;31m             \u001b[0;32mreturn\u001b[0m \u001b[0mself\u001b[0m\u001b[0;34m.\u001b[0m\u001b[0m_getitem_column\u001b[0m\u001b[0;34m(\u001b[0m\u001b[0mkey\u001b[0m\u001b[0;34m)\u001b[0m\u001b[0;34m\u001b[0m\u001b[0;34m\u001b[0m\u001b[0m\n\u001b[0m\u001b[1;32m   2140\u001b[0m \u001b[0;34m\u001b[0m\u001b[0m\n\u001b[1;32m   2141\u001b[0m     \u001b[0;32mdef\u001b[0m \u001b[0m_getitem_column\u001b[0m\u001b[0;34m(\u001b[0m\u001b[0mself\u001b[0m\u001b[0;34m,\u001b[0m \u001b[0mkey\u001b[0m\u001b[0;34m)\u001b[0m\u001b[0;34m:\u001b[0m\u001b[0;34m\u001b[0m\u001b[0;34m\u001b[0m\u001b[0m\n",
            "\u001b[0;32m/usr/local/lib/python3.6/dist-packages/pandas/core/frame.py\u001b[0m in \u001b[0;36m_getitem_column\u001b[0;34m(self, key)\u001b[0m\n\u001b[1;32m   2144\u001b[0m         \u001b[0;31m# get column\u001b[0m\u001b[0;34m\u001b[0m\u001b[0;34m\u001b[0m\u001b[0;34m\u001b[0m\u001b[0m\n\u001b[1;32m   2145\u001b[0m         \u001b[0;32mif\u001b[0m \u001b[0mself\u001b[0m\u001b[0;34m.\u001b[0m\u001b[0mcolumns\u001b[0m\u001b[0;34m.\u001b[0m\u001b[0mis_unique\u001b[0m\u001b[0;34m:\u001b[0m\u001b[0;34m\u001b[0m\u001b[0;34m\u001b[0m\u001b[0m\n\u001b[0;32m-> 2146\u001b[0;31m             \u001b[0;32mreturn\u001b[0m \u001b[0mself\u001b[0m\u001b[0;34m.\u001b[0m\u001b[0m_get_item_cache\u001b[0m\u001b[0;34m(\u001b[0m\u001b[0mkey\u001b[0m\u001b[0;34m)\u001b[0m\u001b[0;34m\u001b[0m\u001b[0;34m\u001b[0m\u001b[0m\n\u001b[0m\u001b[1;32m   2147\u001b[0m \u001b[0;34m\u001b[0m\u001b[0m\n\u001b[1;32m   2148\u001b[0m         \u001b[0;31m# duplicate columns & possible reduce dimensionality\u001b[0m\u001b[0;34m\u001b[0m\u001b[0;34m\u001b[0m\u001b[0;34m\u001b[0m\u001b[0m\n",
            "\u001b[0;32m/usr/local/lib/python3.6/dist-packages/pandas/core/generic.py\u001b[0m in \u001b[0;36m_get_item_cache\u001b[0;34m(self, item)\u001b[0m\n\u001b[1;32m   1840\u001b[0m         \u001b[0mres\u001b[0m \u001b[0;34m=\u001b[0m \u001b[0mcache\u001b[0m\u001b[0;34m.\u001b[0m\u001b[0mget\u001b[0m\u001b[0;34m(\u001b[0m\u001b[0mitem\u001b[0m\u001b[0;34m)\u001b[0m\u001b[0;34m\u001b[0m\u001b[0;34m\u001b[0m\u001b[0m\n\u001b[1;32m   1841\u001b[0m         \u001b[0;32mif\u001b[0m \u001b[0mres\u001b[0m \u001b[0;32mis\u001b[0m \u001b[0;32mNone\u001b[0m\u001b[0;34m:\u001b[0m\u001b[0;34m\u001b[0m\u001b[0;34m\u001b[0m\u001b[0m\n\u001b[0;32m-> 1842\u001b[0;31m             \u001b[0mvalues\u001b[0m \u001b[0;34m=\u001b[0m \u001b[0mself\u001b[0m\u001b[0;34m.\u001b[0m\u001b[0m_data\u001b[0m\u001b[0;34m.\u001b[0m\u001b[0mget\u001b[0m\u001b[0;34m(\u001b[0m\u001b[0mitem\u001b[0m\u001b[0;34m)\u001b[0m\u001b[0;34m\u001b[0m\u001b[0;34m\u001b[0m\u001b[0m\n\u001b[0m\u001b[1;32m   1843\u001b[0m             \u001b[0mres\u001b[0m \u001b[0;34m=\u001b[0m \u001b[0mself\u001b[0m\u001b[0;34m.\u001b[0m\u001b[0m_box_item_values\u001b[0m\u001b[0;34m(\u001b[0m\u001b[0mitem\u001b[0m\u001b[0;34m,\u001b[0m \u001b[0mvalues\u001b[0m\u001b[0;34m)\u001b[0m\u001b[0;34m\u001b[0m\u001b[0;34m\u001b[0m\u001b[0m\n\u001b[1;32m   1844\u001b[0m             \u001b[0mcache\u001b[0m\u001b[0;34m[\u001b[0m\u001b[0mitem\u001b[0m\u001b[0;34m]\u001b[0m \u001b[0;34m=\u001b[0m \u001b[0mres\u001b[0m\u001b[0;34m\u001b[0m\u001b[0;34m\u001b[0m\u001b[0m\n",
            "\u001b[0;32m/usr/local/lib/python3.6/dist-packages/pandas/core/internals.py\u001b[0m in \u001b[0;36mget\u001b[0;34m(self, item, fastpath)\u001b[0m\n\u001b[1;32m   3841\u001b[0m \u001b[0;34m\u001b[0m\u001b[0m\n\u001b[1;32m   3842\u001b[0m             \u001b[0;32mif\u001b[0m \u001b[0;32mnot\u001b[0m \u001b[0misna\u001b[0m\u001b[0;34m(\u001b[0m\u001b[0mitem\u001b[0m\u001b[0;34m)\u001b[0m\u001b[0;34m:\u001b[0m\u001b[0;34m\u001b[0m\u001b[0;34m\u001b[0m\u001b[0m\n\u001b[0;32m-> 3843\u001b[0;31m                 \u001b[0mloc\u001b[0m \u001b[0;34m=\u001b[0m \u001b[0mself\u001b[0m\u001b[0;34m.\u001b[0m\u001b[0mitems\u001b[0m\u001b[0;34m.\u001b[0m\u001b[0mget_loc\u001b[0m\u001b[0;34m(\u001b[0m\u001b[0mitem\u001b[0m\u001b[0;34m)\u001b[0m\u001b[0;34m\u001b[0m\u001b[0;34m\u001b[0m\u001b[0m\n\u001b[0m\u001b[1;32m   3844\u001b[0m             \u001b[0;32melse\u001b[0m\u001b[0;34m:\u001b[0m\u001b[0;34m\u001b[0m\u001b[0;34m\u001b[0m\u001b[0m\n\u001b[1;32m   3845\u001b[0m                 \u001b[0mindexer\u001b[0m \u001b[0;34m=\u001b[0m \u001b[0mnp\u001b[0m\u001b[0;34m.\u001b[0m\u001b[0marange\u001b[0m\u001b[0;34m(\u001b[0m\u001b[0mlen\u001b[0m\u001b[0;34m(\u001b[0m\u001b[0mself\u001b[0m\u001b[0;34m.\u001b[0m\u001b[0mitems\u001b[0m\u001b[0;34m)\u001b[0m\u001b[0;34m)\u001b[0m\u001b[0;34m[\u001b[0m\u001b[0misna\u001b[0m\u001b[0;34m(\u001b[0m\u001b[0mself\u001b[0m\u001b[0;34m.\u001b[0m\u001b[0mitems\u001b[0m\u001b[0;34m)\u001b[0m\u001b[0;34m]\u001b[0m\u001b[0;34m\u001b[0m\u001b[0;34m\u001b[0m\u001b[0m\n",
            "\u001b[0;32m/usr/local/lib/python3.6/dist-packages/pandas/core/indexes/base.py\u001b[0m in \u001b[0;36mget_loc\u001b[0;34m(self, key, method, tolerance)\u001b[0m\n\u001b[1;32m   2525\u001b[0m                 \u001b[0;32mreturn\u001b[0m \u001b[0mself\u001b[0m\u001b[0;34m.\u001b[0m\u001b[0m_engine\u001b[0m\u001b[0;34m.\u001b[0m\u001b[0mget_loc\u001b[0m\u001b[0;34m(\u001b[0m\u001b[0mkey\u001b[0m\u001b[0;34m)\u001b[0m\u001b[0;34m\u001b[0m\u001b[0;34m\u001b[0m\u001b[0m\n\u001b[1;32m   2526\u001b[0m             \u001b[0;32mexcept\u001b[0m \u001b[0mKeyError\u001b[0m\u001b[0;34m:\u001b[0m\u001b[0;34m\u001b[0m\u001b[0;34m\u001b[0m\u001b[0m\n\u001b[0;32m-> 2527\u001b[0;31m                 \u001b[0;32mreturn\u001b[0m \u001b[0mself\u001b[0m\u001b[0;34m.\u001b[0m\u001b[0m_engine\u001b[0m\u001b[0;34m.\u001b[0m\u001b[0mget_loc\u001b[0m\u001b[0;34m(\u001b[0m\u001b[0mself\u001b[0m\u001b[0;34m.\u001b[0m\u001b[0m_maybe_cast_indexer\u001b[0m\u001b[0;34m(\u001b[0m\u001b[0mkey\u001b[0m\u001b[0;34m)\u001b[0m\u001b[0;34m)\u001b[0m\u001b[0;34m\u001b[0m\u001b[0;34m\u001b[0m\u001b[0m\n\u001b[0m\u001b[1;32m   2528\u001b[0m \u001b[0;34m\u001b[0m\u001b[0m\n\u001b[1;32m   2529\u001b[0m         \u001b[0mindexer\u001b[0m \u001b[0;34m=\u001b[0m \u001b[0mself\u001b[0m\u001b[0;34m.\u001b[0m\u001b[0mget_indexer\u001b[0m\u001b[0;34m(\u001b[0m\u001b[0;34m[\u001b[0m\u001b[0mkey\u001b[0m\u001b[0;34m]\u001b[0m\u001b[0;34m,\u001b[0m \u001b[0mmethod\u001b[0m\u001b[0;34m=\u001b[0m\u001b[0mmethod\u001b[0m\u001b[0;34m,\u001b[0m \u001b[0mtolerance\u001b[0m\u001b[0;34m=\u001b[0m\u001b[0mtolerance\u001b[0m\u001b[0;34m)\u001b[0m\u001b[0;34m\u001b[0m\u001b[0;34m\u001b[0m\u001b[0m\n",
            "\u001b[0;32mpandas/_libs/index.pyx\u001b[0m in \u001b[0;36mpandas._libs.index.IndexEngine.get_loc\u001b[0;34m()\u001b[0m\n",
            "\u001b[0;32mpandas/_libs/index.pyx\u001b[0m in \u001b[0;36mpandas._libs.index.IndexEngine.get_loc\u001b[0;34m()\u001b[0m\n",
            "\u001b[0;32mpandas/_libs/hashtable_class_helper.pxi\u001b[0m in \u001b[0;36mpandas._libs.hashtable.PyObjectHashTable.get_item\u001b[0;34m()\u001b[0m\n",
            "\u001b[0;32mpandas/_libs/hashtable_class_helper.pxi\u001b[0m in \u001b[0;36mpandas._libs.hashtable.PyObjectHashTable.get_item\u001b[0;34m()\u001b[0m\n",
            "\u001b[0;31mKeyError\u001b[0m: 'content_type'"
          ]
        }
      ]
    },
    {
      "cell_type": "code",
      "metadata": {
        "id": "85TSFTULVYVm",
        "colab_type": "code",
        "outputId": "d3798c43-428b-4ef3-e9d9-4c62ff47d82c",
        "colab": {
          "base_uri": "https://localhost:8080/",
          "height": 34
        }
      },
      "source": [
        "from sklearn.linear_model import LogisticRegression\n",
        "x_train, x_test, y_train, y_test = train_test_split(X,y, test_size=0.2,random_state=6)\n",
        "clf1 = LogisticRegression(random_state=0, solver='lbfgs',multi_class='multinomial')\n",
        "clf1.fit(x_train, y_train)\n",
        "y_pred=clf1.predict(x_test)\n",
        "np.mean(y_pred == y_test)"
      ],
      "execution_count": 0,
      "outputs": [
        {
          "output_type": "execute_result",
          "data": {
            "text/plain": [
              "0.5687022900763359"
            ]
          },
          "metadata": {
            "tags": []
          },
          "execution_count": 28
        }
      ]
    },
    {
      "cell_type": "code",
      "metadata": {
        "id": "B02ctr3JfG2s",
        "colab_type": "code",
        "outputId": "ab4b035b-61cd-4066-f66a-b2cf76d9bb97",
        "colab": {
          "base_uri": "https://localhost:8080/",
          "height": 85
        }
      },
      "source": [
        "clf1.get_params"
      ],
      "execution_count": 0,
      "outputs": [
        {
          "output_type": "execute_result",
          "data": {
            "text/plain": [
              "<bound method BaseEstimator.get_params of LogisticRegression(C=1.0, class_weight=None, dual=False, fit_intercept=True,\n",
              "          intercept_scaling=1, max_iter=100, multi_class='multinomial',\n",
              "          n_jobs=1, penalty='l2', random_state=0, solver='lbfgs',\n",
              "          tol=0.0001, verbose=0, warm_start=False)>"
            ]
          },
          "metadata": {
            "tags": []
          },
          "execution_count": 29
        }
      ]
    },
    {
      "cell_type": "code",
      "metadata": {
        "id": "_W-n05-LiSzS",
        "colab_type": "code",
        "outputId": "b5ff6645-96f0-4444-9550-e05b78e1d09d",
        "colab": {
          "base_uri": "https://localhost:8080/",
          "height": 68
        }
      },
      "source": [
        "from sklearn.metrics import confusion_matrix\n",
        "confusion_matrix = confusion_matrix(y_test, y_pred)\n",
        "confusion_matrix"
      ],
      "execution_count": 0,
      "outputs": [
        {
          "output_type": "execute_result",
          "data": {
            "text/plain": [
              "array([[112,   7,   1],\n",
              "       [ 59,  17,   1],\n",
              "       [ 44,   1,  20]])"
            ]
          },
          "metadata": {
            "tags": []
          },
          "execution_count": 30
        }
      ]
    },
    {
      "cell_type": "code",
      "metadata": {
        "id": "qytJu8aagEnn",
        "colab_type": "code",
        "outputId": "5860f0f5-1cde-4dcf-bcbf-b8f38104327d",
        "colab": {
          "base_uri": "https://localhost:8080/",
          "height": 215
        }
      },
      "source": [
        "param_grid = {'C': [0.001, 0.01, 0.1, 1, 10, 100, 1000] }\n",
        "\n",
        "penalty = ['l1', 'l2']\n",
        "C = np.logspace(0, 4, 10)\n",
        "hyperparameters = dict(C=C, penalty=penalty)\n",
        "clf = GridSearchCV(logistic, hyperparameters, cv=5, verbose=0)\n",
        "\n"
      ],
      "execution_count": 0,
      "outputs": [
        {
          "output_type": "error",
          "ename": "NameError",
          "evalue": "ignored",
          "traceback": [
            "\u001b[0;31m---------------------------------------------------------------------------\u001b[0m",
            "\u001b[0;31mNameError\u001b[0m                                 Traceback (most recent call last)",
            "\u001b[0;32m<ipython-input-31-64f1cef3168a>\u001b[0m in \u001b[0;36m<module>\u001b[0;34m()\u001b[0m\n\u001b[1;32m      4\u001b[0m \u001b[0mC\u001b[0m \u001b[0;34m=\u001b[0m \u001b[0mnp\u001b[0m\u001b[0;34m.\u001b[0m\u001b[0mlogspace\u001b[0m\u001b[0;34m(\u001b[0m\u001b[0;36m0\u001b[0m\u001b[0;34m,\u001b[0m \u001b[0;36m4\u001b[0m\u001b[0;34m,\u001b[0m \u001b[0;36m10\u001b[0m\u001b[0;34m)\u001b[0m\u001b[0;34m\u001b[0m\u001b[0;34m\u001b[0m\u001b[0m\n\u001b[1;32m      5\u001b[0m \u001b[0mhyperparameters\u001b[0m \u001b[0;34m=\u001b[0m \u001b[0mdict\u001b[0m\u001b[0;34m(\u001b[0m\u001b[0mC\u001b[0m\u001b[0;34m=\u001b[0m\u001b[0mC\u001b[0m\u001b[0;34m,\u001b[0m \u001b[0mpenalty\u001b[0m\u001b[0;34m=\u001b[0m\u001b[0mpenalty\u001b[0m\u001b[0;34m)\u001b[0m\u001b[0;34m\u001b[0m\u001b[0;34m\u001b[0m\u001b[0m\n\u001b[0;32m----> 6\u001b[0;31m \u001b[0mclf\u001b[0m \u001b[0;34m=\u001b[0m \u001b[0mGridSearchCV\u001b[0m\u001b[0;34m(\u001b[0m\u001b[0mlogistic\u001b[0m\u001b[0;34m,\u001b[0m \u001b[0mhyperparameters\u001b[0m\u001b[0;34m,\u001b[0m \u001b[0mcv\u001b[0m\u001b[0;34m=\u001b[0m\u001b[0;36m5\u001b[0m\u001b[0;34m,\u001b[0m \u001b[0mverbose\u001b[0m\u001b[0;34m=\u001b[0m\u001b[0;36m0\u001b[0m\u001b[0;34m)\u001b[0m\u001b[0;34m\u001b[0m\u001b[0;34m\u001b[0m\u001b[0m\n\u001b[0m\u001b[1;32m      7\u001b[0m \u001b[0;34m\u001b[0m\u001b[0m\n",
            "\u001b[0;31mNameError\u001b[0m: name 'logistic' is not defined"
          ]
        }
      ]
    },
    {
      "cell_type": "code",
      "metadata": {
        "id": "vblf2QNxXC_v",
        "colab_type": "code",
        "outputId": "681e458c-9244-4ce9-ae48-bbfd68b277b5",
        "colab": {
          "base_uri": "https://localhost:8080/",
          "height": 34
        }
      },
      "source": [
        "from sklearn.ensemble import RandomForestClassifier\n",
        "x_train, x_test, y_train, y_test = train_test_split(X,y, test_size=0.2,random_state=6)\n",
        "clf2 = RandomForestClassifier(n_estimators=50, max_depth=10)\n",
        "clf2.fit(x_train, y_train)\n",
        "y_pred=clf2.predict(x_test)\n",
        "np.mean(y_pred == y_test)"
      ],
      "execution_count": 0,
      "outputs": [
        {
          "output_type": "execute_result",
          "data": {
            "text/plain": [
              "0.5687022900763359"
            ]
          },
          "metadata": {
            "tags": []
          },
          "execution_count": 32
        }
      ]
    },
    {
      "cell_type": "code",
      "metadata": {
        "id": "8vkp1OspdbLU",
        "colab_type": "code",
        "outputId": "0b8ccabe-d921-4fd1-d6d5-c741ed9de193",
        "colab": {
          "base_uri": "https://localhost:8080/",
          "height": 136
        }
      },
      "source": [
        "clf2.get_params"
      ],
      "execution_count": 0,
      "outputs": [
        {
          "output_type": "execute_result",
          "data": {
            "text/plain": [
              "<bound method BaseEstimator.get_params of RandomForestClassifier(bootstrap=True, class_weight=None, criterion='gini',\n",
              "            max_depth=10, max_features='auto', max_leaf_nodes=None,\n",
              "            min_impurity_decrease=0.0, min_impurity_split=None,\n",
              "            min_samples_leaf=1, min_samples_split=2,\n",
              "            min_weight_fraction_leaf=0.0, n_estimators=50, n_jobs=1,\n",
              "            oob_score=False, random_state=None, verbose=0,\n",
              "            warm_start=False)>"
            ]
          },
          "metadata": {
            "tags": []
          },
          "execution_count": 150
        }
      ]
    },
    {
      "cell_type": "code",
      "metadata": {
        "id": "Cy8eBCZifEbk",
        "colab_type": "code",
        "outputId": "904e7303-897e-44e0-ac44-f8f72df5149f",
        "colab": {
          "base_uri": "https://localhost:8080/",
          "height": 136
        }
      },
      "source": [
        "clf2.get_params"
      ],
      "execution_count": 0,
      "outputs": [
        {
          "output_type": "execute_result",
          "data": {
            "text/plain": [
              "<bound method BaseEstimator.get_params of RandomForestClassifier(bootstrap=True, class_weight=None, criterion='gini',\n",
              "            max_depth=10, max_features='auto', max_leaf_nodes=None,\n",
              "            min_impurity_decrease=0.0, min_impurity_split=None,\n",
              "            min_samples_leaf=1, min_samples_split=2,\n",
              "            min_weight_fraction_leaf=0.0, n_estimators=50, n_jobs=1,\n",
              "            oob_score=False, random_state=None, verbose=0,\n",
              "            warm_start=False)>"
            ]
          },
          "metadata": {
            "tags": []
          },
          "execution_count": 17
        }
      ]
    },
    {
      "cell_type": "code",
      "metadata": {
        "id": "EN6J_3VeeKbs",
        "colab_type": "code",
        "outputId": "e92fed6e-c496-4629-9411-ef2b241b5eda",
        "colab": {
          "base_uri": "https://localhost:8080/",
          "height": 2893
        }
      },
      "source": [
        "pipeline = Pipeline([('vec', CountVectorizer()),\n",
        "                     ('tfidf', TfidfTransformer()), \n",
        "                     ('clf',MultinomialNB())])\n",
        "parameters = {  \n",
        "'vec__max_df': (0.1,0.25, 0.5, 0.75,1.0),  \n",
        "'vec__min_df': (1, 5, 10, 20, 50),  \n",
        "'vec__binary': (True, False),  \n",
        "'vec__ngram_range':((1,1),(1,2),(1,3),(1,4)),\n",
        "'tfidf__use_idf': (True, False),  \n",
        "'tfidf__norm': ('l1', 'l2'),  \n",
        "'clf__alpha': (1, 0.1, 0.01, 0.001, 0.0001)  \n",
        "}  \n",
        "grid_search = GridSearchCV(pipeline, parameters, n_jobs=-1, verbose=2)  \n",
        "grid_search.fit(df_group.textual_comb,df_group.label)  \n",
        "print(\"Best score: {0}\".format(grid_search.best_score_))  \n",
        "print(\"Best parameters set:\")  \n",
        "best_parameters = grid_search.best_estimator_.get_params()  \n",
        "for param_name in sorted(list(parameters.keys())):  \n",
        "    print(\"\\t{0}: {1}\".format(param_name, best_parameters[param_name]))\n",
        "# https://stackoverflow.com/questions/26569478/performing-grid-search-on-sklearn-naive-bayes-multinomialnb-on-multi-core-machin"
      ],
      "execution_count": 0,
      "outputs": [
        {
          "output_type": "stream",
          "text": [
            "Fitting 3 folds for each of 4000 candidates, totalling 12000 fits\n",
            "[CV] clf__alpha=1, tfidf__norm=l1, tfidf__use_idf=True, vec__binary=True, vec__max_df=0.1, vec__min_df=1, vec__ngram_range=(1, 1) \n",
            "[CV] clf__alpha=1, tfidf__norm=l1, tfidf__use_idf=True, vec__binary=True, vec__max_df=0.1, vec__min_df=1, vec__ngram_range=(1, 1) \n",
            "[CV]  clf__alpha=1, tfidf__norm=l1, tfidf__use_idf=True, vec__binary=True, vec__max_df=0.1, vec__min_df=1, vec__ngram_range=(1, 1), total=   5.6s\n",
            "[CV]  clf__alpha=1, tfidf__norm=l1, tfidf__use_idf=True, vec__binary=True, vec__max_df=0.1, vec__min_df=1, vec__ngram_range=(1, 1), total=   5.8s\n",
            "[CV] clf__alpha=1, tfidf__norm=l1, tfidf__use_idf=True, vec__binary=True, vec__max_df=0.1, vec__min_df=1, vec__ngram_range=(1, 1) \n",
            "[CV] clf__alpha=1, tfidf__norm=l1, tfidf__use_idf=True, vec__binary=True, vec__max_df=0.1, vec__min_df=1, vec__ngram_range=(1, 2) \n",
            "[CV]  clf__alpha=1, tfidf__norm=l1, tfidf__use_idf=True, vec__binary=True, vec__max_df=0.1, vec__min_df=1, vec__ngram_range=(1, 1), total=   6.8s\n",
            "[CV] clf__alpha=1, tfidf__norm=l1, tfidf__use_idf=True, vec__binary=True, vec__max_df=0.1, vec__min_df=1, vec__ngram_range=(1, 2) \n",
            "[CV]  clf__alpha=1, tfidf__norm=l1, tfidf__use_idf=True, vec__binary=True, vec__max_df=0.1, vec__min_df=1, vec__ngram_range=(1, 2), total=  35.5s\n",
            "[CV] clf__alpha=1, tfidf__norm=l1, tfidf__use_idf=True, vec__binary=True, vec__max_df=0.1, vec__min_df=1, vec__ngram_range=(1, 2) \n",
            "[CV]  clf__alpha=1, tfidf__norm=l1, tfidf__use_idf=True, vec__binary=True, vec__max_df=0.1, vec__min_df=1, vec__ngram_range=(1, 2), total=  35.0s\n",
            "[CV] clf__alpha=1, tfidf__norm=l1, tfidf__use_idf=True, vec__binary=True, vec__max_df=0.1, vec__min_df=1, vec__ngram_range=(1, 3) \n",
            "[CV]  clf__alpha=1, tfidf__norm=l1, tfidf__use_idf=True, vec__binary=True, vec__max_df=0.1, vec__min_df=1, vec__ngram_range=(1, 2), total=  41.6s\n",
            "[CV] clf__alpha=1, tfidf__norm=l1, tfidf__use_idf=True, vec__binary=True, vec__max_df=0.1, vec__min_df=1, vec__ngram_range=(1, 3) \n",
            "[CV]  clf__alpha=1, tfidf__norm=l1, tfidf__use_idf=True, vec__binary=True, vec__max_df=0.1, vec__min_df=1, vec__ngram_range=(1, 3), total= 1.7min\n",
            "[CV] clf__alpha=1, tfidf__norm=l1, tfidf__use_idf=True, vec__binary=True, vec__max_df=0.1, vec__min_df=1, vec__ngram_range=(1, 3) \n",
            "[CV]  clf__alpha=1, tfidf__norm=l1, tfidf__use_idf=True, vec__binary=True, vec__max_df=0.1, vec__min_df=1, vec__ngram_range=(1, 3), total= 1.3min\n",
            "[CV] clf__alpha=1, tfidf__norm=l1, tfidf__use_idf=True, vec__binary=True, vec__max_df=0.1, vec__min_df=1, vec__ngram_range=(1, 4) \n",
            "[CV]  clf__alpha=1, tfidf__norm=l1, tfidf__use_idf=True, vec__binary=True, vec__max_df=0.1, vec__min_df=1, vec__ngram_range=(1, 3), total= 1.1min\n",
            "[CV] clf__alpha=1, tfidf__norm=l1, tfidf__use_idf=True, vec__binary=True, vec__max_df=0.1, vec__min_df=1, vec__ngram_range=(1, 4) \n",
            "[CV]  clf__alpha=1, tfidf__norm=l1, tfidf__use_idf=True, vec__binary=True, vec__max_df=0.1, vec__min_df=1, vec__ngram_range=(1, 4), total= 1.7min\n",
            "[CV] clf__alpha=1, tfidf__norm=l1, tfidf__use_idf=True, vec__binary=True, vec__max_df=0.1, vec__min_df=1, vec__ngram_range=(1, 4) \n",
            "[CV]  clf__alpha=1, tfidf__norm=l1, tfidf__use_idf=True, vec__binary=True, vec__max_df=0.1, vec__min_df=1, vec__ngram_range=(1, 4), total= 1.6min\n",
            "[CV] clf__alpha=1, tfidf__norm=l1, tfidf__use_idf=True, vec__binary=True, vec__max_df=0.1, vec__min_df=5, vec__ngram_range=(1, 1) \n",
            "[CV]  clf__alpha=1, tfidf__norm=l1, tfidf__use_idf=True, vec__binary=True, vec__max_df=0.1, vec__min_df=5, vec__ngram_range=(1, 1), total=   6.3s\n",
            "[CV] clf__alpha=1, tfidf__norm=l1, tfidf__use_idf=True, vec__binary=True, vec__max_df=0.1, vec__min_df=5, vec__ngram_range=(1, 1) \n",
            "[CV]  clf__alpha=1, tfidf__norm=l1, tfidf__use_idf=True, vec__binary=True, vec__max_df=0.1, vec__min_df=5, vec__ngram_range=(1, 1), total=   6.5s\n",
            "[CV] clf__alpha=1, tfidf__norm=l1, tfidf__use_idf=True, vec__binary=True, vec__max_df=0.1, vec__min_df=5, vec__ngram_range=(1, 1) \n",
            "[CV]  clf__alpha=1, tfidf__norm=l1, tfidf__use_idf=True, vec__binary=True, vec__max_df=0.1, vec__min_df=5, vec__ngram_range=(1, 1), total=   7.9s\n",
            "[CV] clf__alpha=1, tfidf__norm=l1, tfidf__use_idf=True, vec__binary=True, vec__max_df=0.1, vec__min_df=5, vec__ngram_range=(1, 2) \n",
            "[CV]  clf__alpha=1, tfidf__norm=l1, tfidf__use_idf=True, vec__binary=True, vec__max_df=0.1, vec__min_df=5, vec__ngram_range=(1, 2), total=  26.7s\n",
            "[CV] clf__alpha=1, tfidf__norm=l1, tfidf__use_idf=True, vec__binary=True, vec__max_df=0.1, vec__min_df=5, vec__ngram_range=(1, 2) \n",
            "[CV]  clf__alpha=1, tfidf__norm=l1, tfidf__use_idf=True, vec__binary=True, vec__max_df=0.1, vec__min_df=1, vec__ngram_range=(1, 4), total= 1.7min\n",
            "[CV] clf__alpha=1, tfidf__norm=l1, tfidf__use_idf=True, vec__binary=True, vec__max_df=0.1, vec__min_df=5, vec__ngram_range=(1, 2) \n",
            "[CV]  clf__alpha=1, tfidf__norm=l1, tfidf__use_idf=True, vec__binary=True, vec__max_df=0.1, vec__min_df=5, vec__ngram_range=(1, 2), total=  25.6s\n",
            "[CV] clf__alpha=1, tfidf__norm=l1, tfidf__use_idf=True, vec__binary=True, vec__max_df=0.1, vec__min_df=5, vec__ngram_range=(1, 3) \n",
            "[CV]  clf__alpha=1, tfidf__norm=l1, tfidf__use_idf=True, vec__binary=True, vec__max_df=0.1, vec__min_df=5, vec__ngram_range=(1, 2), total=  26.2s\n",
            "[CV] clf__alpha=1, tfidf__norm=l1, tfidf__use_idf=True, vec__binary=True, vec__max_df=0.1, vec__min_df=5, vec__ngram_range=(1, 3) \n",
            "[CV]  clf__alpha=1, tfidf__norm=l1, tfidf__use_idf=True, vec__binary=True, vec__max_df=0.1, vec__min_df=5, vec__ngram_range=(1, 3), total=  57.4s\n",
            "[CV] clf__alpha=1, tfidf__norm=l1, tfidf__use_idf=True, vec__binary=True, vec__max_df=0.1, vec__min_df=5, vec__ngram_range=(1, 3) \n",
            "[CV]  clf__alpha=1, tfidf__norm=l1, tfidf__use_idf=True, vec__binary=True, vec__max_df=0.1, vec__min_df=5, vec__ngram_range=(1, 3), total=  53.9s\n",
            "[CV] clf__alpha=1, tfidf__norm=l1, tfidf__use_idf=True, vec__binary=True, vec__max_df=0.1, vec__min_df=5, vec__ngram_range=(1, 4) \n",
            "[CV]  clf__alpha=1, tfidf__norm=l1, tfidf__use_idf=True, vec__binary=True, vec__max_df=0.1, vec__min_df=5, vec__ngram_range=(1, 3), total=  55.7s\n",
            "[CV] clf__alpha=1, tfidf__norm=l1, tfidf__use_idf=True, vec__binary=True, vec__max_df=0.1, vec__min_df=5, vec__ngram_range=(1, 4) \n",
            "[CV]  clf__alpha=1, tfidf__norm=l1, tfidf__use_idf=True, vec__binary=True, vec__max_df=0.1, vec__min_df=5, vec__ngram_range=(1, 4), total= 1.5min\n",
            "[CV] clf__alpha=1, tfidf__norm=l1, tfidf__use_idf=True, vec__binary=True, vec__max_df=0.1, vec__min_df=5, vec__ngram_range=(1, 4) \n",
            "[CV]  clf__alpha=1, tfidf__norm=l1, tfidf__use_idf=True, vec__binary=True, vec__max_df=0.1, vec__min_df=5, vec__ngram_range=(1, 4), total= 1.4min\n",
            "[CV] clf__alpha=1, tfidf__norm=l1, tfidf__use_idf=True, vec__binary=True, vec__max_df=0.1, vec__min_df=10, vec__ngram_range=(1, 1) \n",
            "[CV]  clf__alpha=1, tfidf__norm=l1, tfidf__use_idf=True, vec__binary=True, vec__max_df=0.1, vec__min_df=10, vec__ngram_range=(1, 1), total=   6.6s\n",
            "[CV] clf__alpha=1, tfidf__norm=l1, tfidf__use_idf=True, vec__binary=True, vec__max_df=0.1, vec__min_df=10, vec__ngram_range=(1, 1) \n",
            "[CV]  clf__alpha=1, tfidf__norm=l1, tfidf__use_idf=True, vec__binary=True, vec__max_df=0.1, vec__min_df=10, vec__ngram_range=(1, 1), total=   7.0s\n",
            "[CV] clf__alpha=1, tfidf__norm=l1, tfidf__use_idf=True, vec__binary=True, vec__max_df=0.1, vec__min_df=10, vec__ngram_range=(1, 1) \n",
            "[CV]  clf__alpha=1, tfidf__norm=l1, tfidf__use_idf=True, vec__binary=True, vec__max_df=0.1, vec__min_df=10, vec__ngram_range=(1, 1), total=   6.9s\n",
            "[CV] clf__alpha=1, tfidf__norm=l1, tfidf__use_idf=True, vec__binary=True, vec__max_df=0.1, vec__min_df=10, vec__ngram_range=(1, 2) \n",
            "[CV]  clf__alpha=1, tfidf__norm=l1, tfidf__use_idf=True, vec__binary=True, vec__max_df=0.1, vec__min_df=5, vec__ngram_range=(1, 4), total= 1.5min\n",
            "[CV] clf__alpha=1, tfidf__norm=l1, tfidf__use_idf=True, vec__binary=True, vec__max_df=0.1, vec__min_df=10, vec__ngram_range=(1, 2) \n",
            "[CV]  clf__alpha=1, tfidf__norm=l1, tfidf__use_idf=True, vec__binary=True, vec__max_df=0.1, vec__min_df=10, vec__ngram_range=(1, 2), total=  26.2s\n",
            "[CV] clf__alpha=1, tfidf__norm=l1, tfidf__use_idf=True, vec__binary=True, vec__max_df=0.1, vec__min_df=10, vec__ngram_range=(1, 2) \n",
            "[CV]  clf__alpha=1, tfidf__norm=l1, tfidf__use_idf=True, vec__binary=True, vec__max_df=0.1, vec__min_df=10, vec__ngram_range=(1, 2), total=  25.2s\n",
            "[CV] clf__alpha=1, tfidf__norm=l1, tfidf__use_idf=True, vec__binary=True, vec__max_df=0.1, vec__min_df=10, vec__ngram_range=(1, 3) \n",
            "[CV]  clf__alpha=1, tfidf__norm=l1, tfidf__use_idf=True, vec__binary=True, vec__max_df=0.1, vec__min_df=10, vec__ngram_range=(1, 2), total=  26.0s\n",
            "[CV] clf__alpha=1, tfidf__norm=l1, tfidf__use_idf=True, vec__binary=True, vec__max_df=0.1, vec__min_df=10, vec__ngram_range=(1, 3) \n",
            "[CV]  clf__alpha=1, tfidf__norm=l1, tfidf__use_idf=True, vec__binary=True, vec__max_df=0.1, vec__min_df=10, vec__ngram_range=(1, 3), total=  56.5s\n",
            "[CV] clf__alpha=1, tfidf__norm=l1, tfidf__use_idf=True, vec__binary=True, vec__max_df=0.1, vec__min_df=10, vec__ngram_range=(1, 3) \n",
            "[CV]  clf__alpha=1, tfidf__norm=l1, tfidf__use_idf=True, vec__binary=True, vec__max_df=0.1, vec__min_df=10, vec__ngram_range=(1, 3), total=  53.0s\n",
            "[CV] clf__alpha=1, tfidf__norm=l1, tfidf__use_idf=True, vec__binary=True, vec__max_df=0.1, vec__min_df=10, vec__ngram_range=(1, 4) \n",
            "[CV]  clf__alpha=1, tfidf__norm=l1, tfidf__use_idf=True, vec__binary=True, vec__max_df=0.1, vec__min_df=10, vec__ngram_range=(1, 3), total=  55.7s\n",
            "[CV] clf__alpha=1, tfidf__norm=l1, tfidf__use_idf=True, vec__binary=True, vec__max_df=0.1, vec__min_df=10, vec__ngram_range=(1, 4) \n",
            "[CV]  clf__alpha=1, tfidf__norm=l1, tfidf__use_idf=True, vec__binary=True, vec__max_df=0.1, vec__min_df=10, vec__ngram_range=(1, 4), total= 1.5min\n",
            "[CV] clf__alpha=1, tfidf__norm=l1, tfidf__use_idf=True, vec__binary=True, vec__max_df=0.1, vec__min_df=10, vec__ngram_range=(1, 4) \n",
            "[CV]  clf__alpha=1, tfidf__norm=l1, tfidf__use_idf=True, vec__binary=True, vec__max_df=0.1, vec__min_df=10, vec__ngram_range=(1, 4), total= 1.4min\n",
            "[CV] clf__alpha=1, tfidf__norm=l1, tfidf__use_idf=True, vec__binary=True, vec__max_df=0.1, vec__min_df=20, vec__ngram_range=(1, 1) \n",
            "[CV]  clf__alpha=1, tfidf__norm=l1, tfidf__use_idf=True, vec__binary=True, vec__max_df=0.1, vec__min_df=20, vec__ngram_range=(1, 1), total=   6.1s\n",
            "[CV] clf__alpha=1, tfidf__norm=l1, tfidf__use_idf=True, vec__binary=True, vec__max_df=0.1, vec__min_df=20, vec__ngram_range=(1, 1) \n",
            "[CV]  clf__alpha=1, tfidf__norm=l1, tfidf__use_idf=True, vec__binary=True, vec__max_df=0.1, vec__min_df=20, vec__ngram_range=(1, 1), total=   6.6s\n",
            "[CV] clf__alpha=1, tfidf__norm=l1, tfidf__use_idf=True, vec__binary=True, vec__max_df=0.1, vec__min_df=20, vec__ngram_range=(1, 1) \n"
          ],
          "name": "stdout"
        },
        {
          "output_type": "stream",
          "text": [
            "[Parallel(n_jobs=-1)]: Done  37 tasks      | elapsed: 19.3min\n"
          ],
          "name": "stderr"
        },
        {
          "output_type": "stream",
          "text": [
            "[CV]  clf__alpha=1, tfidf__norm=l1, tfidf__use_idf=True, vec__binary=True, vec__max_df=0.1, vec__min_df=20, vec__ngram_range=(1, 1), total=   6.6s\n",
            "[CV] clf__alpha=1, tfidf__norm=l1, tfidf__use_idf=True, vec__binary=True, vec__max_df=0.1, vec__min_df=20, vec__ngram_range=(1, 2) \n",
            "[CV]  clf__alpha=1, tfidf__norm=l1, tfidf__use_idf=True, vec__binary=True, vec__max_df=0.1, vec__min_df=10, vec__ngram_range=(1, 4), total= 1.5min\n",
            "[CV] clf__alpha=1, tfidf__norm=l1, tfidf__use_idf=True, vec__binary=True, vec__max_df=0.1, vec__min_df=20, vec__ngram_range=(1, 2) \n",
            "[CV]  clf__alpha=1, tfidf__norm=l1, tfidf__use_idf=True, vec__binary=True, vec__max_df=0.1, vec__min_df=20, vec__ngram_range=(1, 2), total=  26.0s\n",
            "[CV] clf__alpha=1, tfidf__norm=l1, tfidf__use_idf=True, vec__binary=True, vec__max_df=0.1, vec__min_df=20, vec__ngram_range=(1, 2) \n",
            "[CV]  clf__alpha=1, tfidf__norm=l1, tfidf__use_idf=True, vec__binary=True, vec__max_df=0.1, vec__min_df=20, vec__ngram_range=(1, 2), total=  24.7s\n",
            "[CV] clf__alpha=1, tfidf__norm=l1, tfidf__use_idf=True, vec__binary=True, vec__max_df=0.1, vec__min_df=20, vec__ngram_range=(1, 3) \n",
            "[CV]  clf__alpha=1, tfidf__norm=l1, tfidf__use_idf=True, vec__binary=True, vec__max_df=0.1, vec__min_df=20, vec__ngram_range=(1, 2), total=  25.9s\n",
            "[CV] clf__alpha=1, tfidf__norm=l1, tfidf__use_idf=True, vec__binary=True, vec__max_df=0.1, vec__min_df=20, vec__ngram_range=(1, 3) \n",
            "[CV]  clf__alpha=1, tfidf__norm=l1, tfidf__use_idf=True, vec__binary=True, vec__max_df=0.1, vec__min_df=20, vec__ngram_range=(1, 3), total=  56.7s\n",
            "[CV] clf__alpha=1, tfidf__norm=l1, tfidf__use_idf=True, vec__binary=True, vec__max_df=0.1, vec__min_df=20, vec__ngram_range=(1, 3) \n",
            "[CV]  clf__alpha=1, tfidf__norm=l1, tfidf__use_idf=True, vec__binary=True, vec__max_df=0.1, vec__min_df=20, vec__ngram_range=(1, 3), total=  52.6s\n",
            "[CV] clf__alpha=1, tfidf__norm=l1, tfidf__use_idf=True, vec__binary=True, vec__max_df=0.1, vec__min_df=20, vec__ngram_range=(1, 4) \n",
            "[CV]  clf__alpha=1, tfidf__norm=l1, tfidf__use_idf=True, vec__binary=True, vec__max_df=0.1, vec__min_df=20, vec__ngram_range=(1, 3), total=  54.9s\n",
            "[CV] clf__alpha=1, tfidf__norm=l1, tfidf__use_idf=True, vec__binary=True, vec__max_df=0.1, vec__min_df=20, vec__ngram_range=(1, 4) \n",
            "[CV]  clf__alpha=1, tfidf__norm=l1, tfidf__use_idf=True, vec__binary=True, vec__max_df=0.1, vec__min_df=20, vec__ngram_range=(1, 4), total= 1.5min\n",
            "[CV] clf__alpha=1, tfidf__norm=l1, tfidf__use_idf=True, vec__binary=True, vec__max_df=0.1, vec__min_df=20, vec__ngram_range=(1, 4) \n",
            "[CV]  clf__alpha=1, tfidf__norm=l1, tfidf__use_idf=True, vec__binary=True, vec__max_df=0.1, vec__min_df=20, vec__ngram_range=(1, 4), total= 1.4min\n",
            "[CV] clf__alpha=1, tfidf__norm=l1, tfidf__use_idf=True, vec__binary=True, vec__max_df=0.1, vec__min_df=50, vec__ngram_range=(1, 1) \n",
            "[CV]  clf__alpha=1, tfidf__norm=l1, tfidf__use_idf=True, vec__binary=True, vec__max_df=0.1, vec__min_df=50, vec__ngram_range=(1, 1), total=   6.3s\n",
            "[CV] clf__alpha=1, tfidf__norm=l1, tfidf__use_idf=True, vec__binary=True, vec__max_df=0.1, vec__min_df=50, vec__ngram_range=(1, 1) \n",
            "[CV]  clf__alpha=1, tfidf__norm=l1, tfidf__use_idf=True, vec__binary=True, vec__max_df=0.1, vec__min_df=50, vec__ngram_range=(1, 1), total=   6.5s\n",
            "[CV] clf__alpha=1, tfidf__norm=l1, tfidf__use_idf=True, vec__binary=True, vec__max_df=0.1, vec__min_df=50, vec__ngram_range=(1, 1) \n",
            "[CV]  clf__alpha=1, tfidf__norm=l1, tfidf__use_idf=True, vec__binary=True, vec__max_df=0.1, vec__min_df=50, vec__ngram_range=(1, 1), total=   6.7s\n",
            "[CV] clf__alpha=1, tfidf__norm=l1, tfidf__use_idf=True, vec__binary=True, vec__max_df=0.1, vec__min_df=50, vec__ngram_range=(1, 2) \n",
            "[CV]  clf__alpha=1, tfidf__norm=l1, tfidf__use_idf=True, vec__binary=True, vec__max_df=0.1, vec__min_df=20, vec__ngram_range=(1, 4), total= 1.4min\n",
            "[CV] clf__alpha=1, tfidf__norm=l1, tfidf__use_idf=True, vec__binary=True, vec__max_df=0.1, vec__min_df=50, vec__ngram_range=(1, 2) \n",
            "[CV]  clf__alpha=1, tfidf__norm=l1, tfidf__use_idf=True, vec__binary=True, vec__max_df=0.1, vec__min_df=50, vec__ngram_range=(1, 2), total=  24.7s\n",
            "[CV] clf__alpha=1, tfidf__norm=l1, tfidf__use_idf=True, vec__binary=True, vec__max_df=0.1, vec__min_df=50, vec__ngram_range=(1, 2) \n",
            "[CV]  clf__alpha=1, tfidf__norm=l1, tfidf__use_idf=True, vec__binary=True, vec__max_df=0.1, vec__min_df=50, vec__ngram_range=(1, 2), total=  23.5s\n",
            "[CV] clf__alpha=1, tfidf__norm=l1, tfidf__use_idf=True, vec__binary=True, vec__max_df=0.1, vec__min_df=50, vec__ngram_range=(1, 3) \n",
            "[CV]  clf__alpha=1, tfidf__norm=l1, tfidf__use_idf=True, vec__binary=True, vec__max_df=0.1, vec__min_df=50, vec__ngram_range=(1, 2), total=  24.6s\n",
            "[CV] clf__alpha=1, tfidf__norm=l1, tfidf__use_idf=True, vec__binary=True, vec__max_df=0.1, vec__min_df=50, vec__ngram_range=(1, 3) \n",
            "[CV]  clf__alpha=1, tfidf__norm=l1, tfidf__use_idf=True, vec__binary=True, vec__max_df=0.1, vec__min_df=50, vec__ngram_range=(1, 3), total=  53.9s\n",
            "[CV] clf__alpha=1, tfidf__norm=l1, tfidf__use_idf=True, vec__binary=True, vec__max_df=0.1, vec__min_df=50, vec__ngram_range=(1, 3) \n",
            "[CV]  clf__alpha=1, tfidf__norm=l1, tfidf__use_idf=True, vec__binary=True, vec__max_df=0.1, vec__min_df=50, vec__ngram_range=(1, 3), total=  50.9s\n",
            "[CV] clf__alpha=1, tfidf__norm=l1, tfidf__use_idf=True, vec__binary=True, vec__max_df=0.1, vec__min_df=50, vec__ngram_range=(1, 4) \n",
            "[CV]  clf__alpha=1, tfidf__norm=l1, tfidf__use_idf=True, vec__binary=True, vec__max_df=0.1, vec__min_df=50, vec__ngram_range=(1, 3), total=  53.3s\n",
            "[CV] clf__alpha=1, tfidf__norm=l1, tfidf__use_idf=True, vec__binary=True, vec__max_df=0.1, vec__min_df=50, vec__ngram_range=(1, 4) \n",
            "[CV]  clf__alpha=1, tfidf__norm=l1, tfidf__use_idf=True, vec__binary=True, vec__max_df=0.1, vec__min_df=50, vec__ngram_range=(1, 4), total= 1.4min\n",
            "[CV] clf__alpha=1, tfidf__norm=l1, tfidf__use_idf=True, vec__binary=True, vec__max_df=0.1, vec__min_df=50, vec__ngram_range=(1, 4) \n",
            "[CV]  clf__alpha=1, tfidf__norm=l1, tfidf__use_idf=True, vec__binary=True, vec__max_df=0.1, vec__min_df=50, vec__ngram_range=(1, 4), total= 1.4min\n",
            "[CV] clf__alpha=1, tfidf__norm=l1, tfidf__use_idf=True, vec__binary=True, vec__max_df=0.25, vec__min_df=1, vec__ngram_range=(1, 1) \n",
            "[CV]  clf__alpha=1, tfidf__norm=l1, tfidf__use_idf=True, vec__binary=True, vec__max_df=0.25, vec__min_df=1, vec__ngram_range=(1, 1), total=   6.2s\n",
            "[CV] clf__alpha=1, tfidf__norm=l1, tfidf__use_idf=True, vec__binary=True, vec__max_df=0.25, vec__min_df=1, vec__ngram_range=(1, 1) \n",
            "[CV]  clf__alpha=1, tfidf__norm=l1, tfidf__use_idf=True, vec__binary=True, vec__max_df=0.25, vec__min_df=1, vec__ngram_range=(1, 1), total=   6.7s\n",
            "[CV] clf__alpha=1, tfidf__norm=l1, tfidf__use_idf=True, vec__binary=True, vec__max_df=0.25, vec__min_df=1, vec__ngram_range=(1, 1) \n",
            "[CV]  clf__alpha=1, tfidf__norm=l1, tfidf__use_idf=True, vec__binary=True, vec__max_df=0.25, vec__min_df=1, vec__ngram_range=(1, 1), total=   6.5s\n",
            "[CV] clf__alpha=1, tfidf__norm=l1, tfidf__use_idf=True, vec__binary=True, vec__max_df=0.25, vec__min_df=1, vec__ngram_range=(1, 2) \n",
            "[CV]  clf__alpha=1, tfidf__norm=l1, tfidf__use_idf=True, vec__binary=True, vec__max_df=0.1, vec__min_df=50, vec__ngram_range=(1, 4), total= 1.4min\n",
            "[CV] clf__alpha=1, tfidf__norm=l1, tfidf__use_idf=True, vec__binary=True, vec__max_df=0.25, vec__min_df=1, vec__ngram_range=(1, 2) \n",
            "[CV]  clf__alpha=1, tfidf__norm=l1, tfidf__use_idf=True, vec__binary=True, vec__max_df=0.25, vec__min_df=1, vec__ngram_range=(1, 2), total=  28.3s\n",
            "[CV] clf__alpha=1, tfidf__norm=l1, tfidf__use_idf=True, vec__binary=True, vec__max_df=0.25, vec__min_df=1, vec__ngram_range=(1, 2) \n",
            "[CV]  clf__alpha=1, tfidf__norm=l1, tfidf__use_idf=True, vec__binary=True, vec__max_df=0.25, vec__min_df=1, vec__ngram_range=(1, 2), total=  27.5s\n",
            "[CV] clf__alpha=1, tfidf__norm=l1, tfidf__use_idf=True, vec__binary=True, vec__max_df=0.25, vec__min_df=1, vec__ngram_range=(1, 3) \n",
            "[CV]  clf__alpha=1, tfidf__norm=l1, tfidf__use_idf=True, vec__binary=True, vec__max_df=0.25, vec__min_df=1, vec__ngram_range=(1, 2), total=  27.7s\n",
            "[CV] clf__alpha=1, tfidf__norm=l1, tfidf__use_idf=True, vec__binary=True, vec__max_df=0.25, vec__min_df=1, vec__ngram_range=(1, 3) \n",
            "[CV]  clf__alpha=1, tfidf__norm=l1, tfidf__use_idf=True, vec__binary=True, vec__max_df=0.25, vec__min_df=1, vec__ngram_range=(1, 3), total= 1.1min\n",
            "[CV] clf__alpha=1, tfidf__norm=l1, tfidf__use_idf=True, vec__binary=True, vec__max_df=0.25, vec__min_df=1, vec__ngram_range=(1, 3) \n",
            "[CV]  clf__alpha=1, tfidf__norm=l1, tfidf__use_idf=True, vec__binary=True, vec__max_df=0.25, vec__min_df=1, vec__ngram_range=(1, 3), total=  58.1s\n",
            "[CV] clf__alpha=1, tfidf__norm=l1, tfidf__use_idf=True, vec__binary=True, vec__max_df=0.25, vec__min_df=1, vec__ngram_range=(1, 4) \n",
            "[CV]  clf__alpha=1, tfidf__norm=l1, tfidf__use_idf=True, vec__binary=True, vec__max_df=0.25, vec__min_df=1, vec__ngram_range=(1, 3), total=  59.9s\n",
            "[CV] clf__alpha=1, tfidf__norm=l1, tfidf__use_idf=True, vec__binary=True, vec__max_df=0.25, vec__min_df=1, vec__ngram_range=(1, 4) \n",
            "[CV]  clf__alpha=1, tfidf__norm=l1, tfidf__use_idf=True, vec__binary=True, vec__max_df=0.25, vec__min_df=1, vec__ngram_range=(1, 4), total= 1.7min\n",
            "[CV] clf__alpha=1, tfidf__norm=l1, tfidf__use_idf=True, vec__binary=True, vec__max_df=0.25, vec__min_df=1, vec__ngram_range=(1, 4) \n",
            "[CV]  clf__alpha=1, tfidf__norm=l1, tfidf__use_idf=True, vec__binary=True, vec__max_df=0.25, vec__min_df=1, vec__ngram_range=(1, 4), total= 1.6min\n",
            "[CV] clf__alpha=1, tfidf__norm=l1, tfidf__use_idf=True, vec__binary=True, vec__max_df=0.25, vec__min_df=5, vec__ngram_range=(1, 1) \n",
            "[CV]  clf__alpha=1, tfidf__norm=l1, tfidf__use_idf=True, vec__binary=True, vec__max_df=0.25, vec__min_df=5, vec__ngram_range=(1, 1), total=   6.4s\n",
            "[CV] clf__alpha=1, tfidf__norm=l1, tfidf__use_idf=True, vec__binary=True, vec__max_df=0.25, vec__min_df=5, vec__ngram_range=(1, 1) \n",
            "[CV]  clf__alpha=1, tfidf__norm=l1, tfidf__use_idf=True, vec__binary=True, vec__max_df=0.25, vec__min_df=5, vec__ngram_range=(1, 1), total=   7.0s\n",
            "[CV] clf__alpha=1, tfidf__norm=l1, tfidf__use_idf=True, vec__binary=True, vec__max_df=0.25, vec__min_df=5, vec__ngram_range=(1, 1) \n",
            "[CV]  clf__alpha=1, tfidf__norm=l1, tfidf__use_idf=True, vec__binary=True, vec__max_df=0.25, vec__min_df=5, vec__ngram_range=(1, 1), total=   6.5s\n",
            "[CV] clf__alpha=1, tfidf__norm=l1, tfidf__use_idf=True, vec__binary=True, vec__max_df=0.25, vec__min_df=5, vec__ngram_range=(1, 2) \n",
            "[CV]  clf__alpha=1, tfidf__norm=l1, tfidf__use_idf=True, vec__binary=True, vec__max_df=0.25, vec__min_df=1, vec__ngram_range=(1, 4), total= 1.6min\n",
            "[CV] clf__alpha=1, tfidf__norm=l1, tfidf__use_idf=True, vec__binary=True, vec__max_df=0.25, vec__min_df=5, vec__ngram_range=(1, 2) \n",
            "[CV]  clf__alpha=1, tfidf__norm=l1, tfidf__use_idf=True, vec__binary=True, vec__max_df=0.25, vec__min_df=5, vec__ngram_range=(1, 2), total=  25.4s\n",
            "[CV] clf__alpha=1, tfidf__norm=l1, tfidf__use_idf=True, vec__binary=True, vec__max_df=0.25, vec__min_df=5, vec__ngram_range=(1, 2) \n",
            "[CV]  clf__alpha=1, tfidf__norm=l1, tfidf__use_idf=True, vec__binary=True, vec__max_df=0.25, vec__min_df=5, vec__ngram_range=(1, 2), total=  24.2s\n",
            "[CV] clf__alpha=1, tfidf__norm=l1, tfidf__use_idf=True, vec__binary=True, vec__max_df=0.25, vec__min_df=5, vec__ngram_range=(1, 3) \n",
            "[CV]  clf__alpha=1, tfidf__norm=l1, tfidf__use_idf=True, vec__binary=True, vec__max_df=0.25, vec__min_df=5, vec__ngram_range=(1, 2), total=  24.6s\n",
            "[CV] clf__alpha=1, tfidf__norm=l1, tfidf__use_idf=True, vec__binary=True, vec__max_df=0.25, vec__min_df=5, vec__ngram_range=(1, 3) \n",
            "[CV]  clf__alpha=1, tfidf__norm=l1, tfidf__use_idf=True, vec__binary=True, vec__max_df=0.25, vec__min_df=5, vec__ngram_range=(1, 3), total=  54.7s\n",
            "[CV] clf__alpha=1, tfidf__norm=l1, tfidf__use_idf=True, vec__binary=True, vec__max_df=0.25, vec__min_df=5, vec__ngram_range=(1, 3) \n",
            "[CV]  clf__alpha=1, tfidf__norm=l1, tfidf__use_idf=True, vec__binary=True, vec__max_df=0.25, vec__min_df=5, vec__ngram_range=(1, 3), total=  50.8s\n",
            "[CV] clf__alpha=1, tfidf__norm=l1, tfidf__use_idf=True, vec__binary=True, vec__max_df=0.25, vec__min_df=5, vec__ngram_range=(1, 4) \n",
            "[CV]  clf__alpha=1, tfidf__norm=l1, tfidf__use_idf=True, vec__binary=True, vec__max_df=0.25, vec__min_df=5, vec__ngram_range=(1, 3), total=  53.0s\n",
            "[CV] clf__alpha=1, tfidf__norm=l1, tfidf__use_idf=True, vec__binary=True, vec__max_df=0.25, vec__min_df=5, vec__ngram_range=(1, 4) \n",
            "[CV]  clf__alpha=1, tfidf__norm=l1, tfidf__use_idf=True, vec__binary=True, vec__max_df=0.25, vec__min_df=5, vec__ngram_range=(1, 4), total= 1.4min\n",
            "[CV] clf__alpha=1, tfidf__norm=l1, tfidf__use_idf=True, vec__binary=True, vec__max_df=0.25, vec__min_df=5, vec__ngram_range=(1, 4) \n"
          ],
          "name": "stdout"
        }
      ]
    },
    {
      "cell_type": "code",
      "metadata": {
        "id": "Hp_LZj_yprOM",
        "colab_type": "code",
        "colab": {}
      },
      "source": [
        ""
      ],
      "execution_count": 0,
      "outputs": []
    }
  ]
}